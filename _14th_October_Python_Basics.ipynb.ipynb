{
 "cells": [
  {
   "cell_type": "code",
   "execution_count": 1,
   "id": "6b06c438-b9d7-4b65-8106-8870f4c78d56",
   "metadata": {},
   "outputs": [],
   "source": [
    "#Question1"
   ]
  },
  {
   "cell_type": "code",
   "execution_count": 2,
   "id": "758d5e01-62b2-4e0a-b8b2-4d8b09ab3312",
   "metadata": {},
   "outputs": [],
   "source": [
    "x = 10"
   ]
  },
  {
   "cell_type": "code",
   "execution_count": 3,
   "id": "37482075-93fe-42c8-a328-5ccd3e55ec5d",
   "metadata": {},
   "outputs": [],
   "source": [
    "y = 20"
   ]
  },
  {
   "cell_type": "code",
   "execution_count": 4,
   "id": "f0375f9a-53df-484f-bb42-8de7e6751054",
   "metadata": {},
   "outputs": [],
   "source": [
    "x,y = y,x"
   ]
  },
  {
   "cell_type": "code",
   "execution_count": 5,
   "id": "3f4ba787-c91f-457f-9977-e76bb58b3244",
   "metadata": {},
   "outputs": [
    {
     "name": "stdout",
     "output_type": "stream",
     "text": [
      "20 10\n"
     ]
    }
   ],
   "source": [
    "print(x,y)"
   ]
  },
  {
   "cell_type": "code",
   "execution_count": 6,
   "id": "2d838498-c5f7-4d4d-b359-ea6f434b3976",
   "metadata": {},
   "outputs": [],
   "source": [
    "#values has been swapped"
   ]
  },
  {
   "cell_type": "code",
   "execution_count": 7,
   "id": "195920e2-7485-41e4-9703-2ef20fe8c5d2",
   "metadata": {},
   "outputs": [],
   "source": [
    "#Question 2"
   ]
  },
  {
   "cell_type": "code",
   "execution_count": 8,
   "id": "715c01ab-d635-4799-93ed-6040210c009e",
   "metadata": {},
   "outputs": [
    {
     "name": "stdin",
     "output_type": "stream",
     "text": [
      "Enter the length of the rectangle:  10\n"
     ]
    }
   ],
   "source": [
    "length = float(input(\"Enter the length of the rectangle: \"))"
   ]
  },
  {
   "cell_type": "code",
   "execution_count": 9,
   "id": "5ef03806-6833-4d68-abeb-da3b9083d829",
   "metadata": {},
   "outputs": [
    {
     "name": "stdin",
     "output_type": "stream",
     "text": [
      "Enter the width of the rectangle:  6\n"
     ]
    }
   ],
   "source": [
    "width = float(input(\"Enter the width of the rectangle: \"))"
   ]
  },
  {
   "cell_type": "code",
   "execution_count": 10,
   "id": "63b4fe8a-8e47-4482-b15b-62ed42bbfc0c",
   "metadata": {},
   "outputs": [],
   "source": [
    "area = length * width"
   ]
  },
  {
   "cell_type": "code",
   "execution_count": 11,
   "id": "461f47cd-7a5e-4b8f-a25c-276311c78c48",
   "metadata": {},
   "outputs": [
    {
     "name": "stdout",
     "output_type": "stream",
     "text": [
      "area of rectangle is 60.0\n"
     ]
    }
   ],
   "source": [
    "print(\"area of rectangle is\", area)"
   ]
  },
  {
   "cell_type": "code",
   "execution_count": 12,
   "id": "9fd75df8-d4f6-41a9-9aa0-c245f8e83eff",
   "metadata": {},
   "outputs": [],
   "source": [
    "#Question3"
   ]
  },
  {
   "cell_type": "code",
   "execution_count": 13,
   "id": "4cd38e09-8419-4176-b25d-6b703ab626a0",
   "metadata": {},
   "outputs": [
    {
     "name": "stdin",
     "output_type": "stream",
     "text": [
      "Enter the temperature in Celsius:  26\n"
     ]
    }
   ],
   "source": [
    "celsius = float(input(\"Enter the temperature in Celsius: \"))"
   ]
  },
  {
   "cell_type": "code",
   "execution_count": 14,
   "id": "44790367-2555-4efe-84c6-e3c827d3ff2f",
   "metadata": {},
   "outputs": [],
   "source": [
    "fahrenheit = (celsius * 9/5) + 32"
   ]
  },
  {
   "cell_type": "code",
   "execution_count": 15,
   "id": "4d693afa-4b36-4f6b-b653-d8413ec4e154",
   "metadata": {},
   "outputs": [
    {
     "name": "stdout",
     "output_type": "stream",
     "text": [
      "The temperature in Fahrenheit is 78.8\n"
     ]
    }
   ],
   "source": [
    "print(\"The temperature in Fahrenheit is\", fahrenheit)"
   ]
  },
  {
   "cell_type": "code",
   "execution_count": 16,
   "id": "ac39ea0a-dc6b-42ee-b02f-a567b8a12e80",
   "metadata": {},
   "outputs": [],
   "source": [
    "#String Based Questions "
   ]
  },
  {
   "cell_type": "code",
   "execution_count": 17,
   "id": "90833f5a-b670-4324-8e69-0fe83aefbe7d",
   "metadata": {},
   "outputs": [],
   "source": [
    "#Question1"
   ]
  },
  {
   "cell_type": "code",
   "execution_count": 18,
   "id": "ce843948-e57b-48d2-9c77-c2f5ed4ef7da",
   "metadata": {},
   "outputs": [
    {
     "name": "stdin",
     "output_type": "stream",
     "text": [
      "Enter a string:  pwskills\n"
     ]
    }
   ],
   "source": [
    "string = input(\"Enter a string: \")"
   ]
  },
  {
   "cell_type": "code",
   "execution_count": 19,
   "id": "782a5180-2309-49e5-8c10-af59b931f502",
   "metadata": {},
   "outputs": [
    {
     "name": "stdout",
     "output_type": "stream",
     "text": [
      "The length of the string is 8\n"
     ]
    }
   ],
   "source": [
    "print(\"The length of the string is\", len(string))"
   ]
  },
  {
   "cell_type": "code",
   "execution_count": 20,
   "id": "b5bfa67a-c656-4521-be67-051c9dc16420",
   "metadata": {},
   "outputs": [],
   "source": [
    "#Question2"
   ]
  },
  {
   "cell_type": "code",
   "execution_count": 21,
   "id": "c823fdf4-7282-42d8-b150-fd36bb02ccd2",
   "metadata": {},
   "outputs": [
    {
     "name": "stdin",
     "output_type": "stream",
     "text": [
      "Enter a string:  Hello, world!\n"
     ]
    }
   ],
   "source": [
    "string = input(\"Enter a string: \")"
   ]
  },
  {
   "cell_type": "code",
   "execution_count": 22,
   "id": "9b327dbd-ca3e-4aa6-b6e6-d17c9e4825c5",
   "metadata": {},
   "outputs": [],
   "source": [
    "vowel_count = sum(1 for char in string if char in \"aeiou\")"
   ]
  },
  {
   "cell_type": "code",
   "execution_count": 23,
   "id": "3576af2f-8262-4bef-aaea-e72bd05f92f4",
   "metadata": {},
   "outputs": [
    {
     "name": "stdout",
     "output_type": "stream",
     "text": [
      "The number of vowels in the string is 3\n"
     ]
    }
   ],
   "source": [
    "print(\"The number of vowels in the string is\", vowel_count)"
   ]
  },
  {
   "cell_type": "code",
   "execution_count": 24,
   "id": "7aae9912-c327-4dd2-85de-da0b1094f267",
   "metadata": {},
   "outputs": [],
   "source": [
    "#Question4"
   ]
  },
  {
   "cell_type": "code",
   "execution_count": 32,
   "id": "411aeeeb-fdb5-4c2c-bd0b-8287cbc7c7d9",
   "metadata": {},
   "outputs": [
    {
     "name": "stdin",
     "output_type": "stream",
     "text": [
      "Enter a string:  racecar\n"
     ]
    }
   ],
   "source": [
    "string = input(\"Enter a string: \")"
   ]
  },
  {
   "cell_type": "code",
   "execution_count": 38,
   "id": "ceb11097-e8d9-4119-b4e0-3ae0f6eaf76e",
   "metadata": {},
   "outputs": [],
   "source": [
    "reversed_string = string[::-1]"
   ]
  },
  {
   "cell_type": "code",
   "execution_count": 39,
   "id": "43500289-6cd9-40a1-89ca-590fb9b21251",
   "metadata": {},
   "outputs": [
    {
     "name": "stdout",
     "output_type": "stream",
     "text": [
      "The string is a palindrome.\n"
     ]
    }
   ],
   "source": [
    "if string == reversed_string:\n",
    "  print(\"The string is a palindrome.\")\n",
    "else:\n",
    "  print(\"The string is not a palindrome.\")"
   ]
  },
  {
   "cell_type": "code",
   "execution_count": 40,
   "id": "803e3609-0010-402b-8a59-cb053e1ee736",
   "metadata": {},
   "outputs": [],
   "source": [
    "#Question5"
   ]
  },
  {
   "cell_type": "code",
   "execution_count": 41,
   "id": "b5867c8d-aeae-4068-9c85-3e8e72183637",
   "metadata": {},
   "outputs": [
    {
     "name": "stdin",
     "output_type": "stream",
     "text": [
      "Enter a string:  Hello, world!\n"
     ]
    }
   ],
   "source": [
    "string = input(\"Enter a string: \")"
   ]
  },
  {
   "cell_type": "code",
   "execution_count": 42,
   "id": "9df641b4-c596-44e0-8b67-fcfd5c5a59c9",
   "metadata": {},
   "outputs": [],
   "source": [
    "modified_string = string.replace(\" \", \"\")"
   ]
  },
  {
   "cell_type": "code",
   "execution_count": 43,
   "id": "c1891470-981f-40b6-b59b-cceb3e958502",
   "metadata": {},
   "outputs": [
    {
     "name": "stdout",
     "output_type": "stream",
     "text": [
      "The modified string without spaces is: Hello,world!\n"
     ]
    }
   ],
   "source": [
    "print(\"The modified string without spaces is:\", modified_string)"
   ]
  },
  {
   "cell_type": "code",
   "execution_count": null,
   "id": "eb936705-3190-409d-8f97-da6138509b72",
   "metadata": {},
   "outputs": [],
   "source": []
  }
 ],
 "metadata": {
  "kernelspec": {
   "display_name": "Python 3 (ipykernel)",
   "language": "python",
   "name": "python3"
  },
  "language_info": {
   "codemirror_mode": {
    "name": "ipython",
    "version": 3
   },
   "file_extension": ".py",
   "mimetype": "text/x-python",
   "name": "python",
   "nbconvert_exporter": "python",
   "pygments_lexer": "ipython3",
   "version": "3.10.8"
  }
 },
 "nbformat": 4,
 "nbformat_minor": 5
}
