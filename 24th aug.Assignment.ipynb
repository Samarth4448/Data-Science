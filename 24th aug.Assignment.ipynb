{
 "cells": [
  {
   "cell_type": "code",
   "execution_count": 3,
   "id": "d8ffc24a-c787-4c12-9e00-8266253271d9",
   "metadata": {},
   "outputs": [
    {
     "name": "stdout",
     "output_type": "stream",
     "text": [
      "Original String: Hello, World!\n",
      "Reversed String: !dlroW ,olleH\n"
     ]
    }
   ],
   "source": [
    "#Question 1 (String based Problem assesment)\n",
    "def reverse_string(input_str):\n",
    "    return input_str[::-1]\n",
    "input_string = \"Hello, World!\"\n",
    "reversed_string = reverse_string(input_string)\n",
    "\n",
    "print(f\"Original String: {input_string}\")\n",
    "print(f\"Reversed String: {reversed_string}\")\n",
    "\n"
   ]
  },
  {
   "cell_type": "code",
   "execution_count": 4,
   "id": "c842a073-444d-408c-9dbd-3dd7f9059f3b",
   "metadata": {},
   "outputs": [
    {
     "name": "stdout",
     "output_type": "stream",
     "text": [
      "Is 'level' a palindrome? True\n"
     ]
    }
   ],
   "source": [
    "#Question 2. Check if a string is a palindrome.\n",
    "def is_palindrome(input_str):\n",
    "    return input_str == input_str[::-1]\n",
    "\n",
    "palindrome_check = is_palindrome(\"level\")\n",
    "print(f\"Is 'level' a palindrome? {palindrome_check}\")\n",
    "\n"
   ]
  },
  {
   "cell_type": "code",
   "execution_count": 5,
   "id": "c281441a-f81c-44c9-a459-62189eac983c",
   "metadata": {},
   "outputs": [
    {
     "name": "stdout",
     "output_type": "stream",
     "text": [
      "Uppercase String: HELLO, WORLD!\n"
     ]
    }
   ],
   "source": [
    "#Question 3. Convert a string to uppercase.\n",
    "original_string = \"hello, world!\"\n",
    "uppercase_string = original_string.upper()\n",
    "print(f\"Uppercase String: {uppercase_string}\")"
   ]
  },
  {
   "cell_type": "code",
   "execution_count": 6,
   "id": "200945a7-6e45-4633-a330-7bbcc5d22004",
   "metadata": {},
   "outputs": [
    {
     "name": "stdout",
     "output_type": "stream",
     "text": [
      "Lowercase String: hello, world!\n"
     ]
    }
   ],
   "source": [
    "#Question 4. Convert a string to lowercase.\n",
    "lowercase_string = original_string.lower()\n",
    "print(f\"Lowercase String: {lowercase_string}\") "
   ]
  },
  {
   "cell_type": "code",
   "execution_count": 7,
   "id": "347515b5-448e-4157-afe6-de3b3a25149d",
   "metadata": {},
   "outputs": [
    {
     "name": "stdout",
     "output_type": "stream",
     "text": [
      "Number of vowels: 3\n"
     ]
    }
   ],
   "source": [
    "#Question 5. Count the number of vowels in a string.\n",
    "def count_vowels(input_str):\n",
    "    vowels = \"aeiouAEIOU\"\n",
    "    return sum(1 for char in input_str if char in vowels)\n",
    "\n",
    "vowel_count = count_vowels(\"Hello, World!\")\n",
    "print(f\"Number of vowels: {vowel_count}\")"
   ]
  },
  {
   "cell_type": "code",
   "execution_count": 8,
   "id": "3c690b90-1110-4dee-931b-57dd5030dc13",
   "metadata": {},
   "outputs": [
    {
     "name": "stdout",
     "output_type": "stream",
     "text": [
      "Number of consonants: 7\n"
     ]
    }
   ],
   "source": [
    "#Question 6. Count the number of consonants in a string.\n",
    "def count_consonants(input_str):\n",
    "    consonants = \"bcdfghjklmnpqrstvwxyzBCDFGHJKLMNPQRSTVWXYZ\"\n",
    "    return sum(1 for char in input_str if char in consonants)\n",
    "\n",
    "consonant_count = count_consonants(\"Hello, World!\")\n",
    "print(f\"Number of consonants: {consonant_count}\")\n"
   ]
  },
  {
   "cell_type": "code",
   "execution_count": 9,
   "id": "bdb63f3c-4785-4a1f-b3db-305e5fa72490",
   "metadata": {},
   "outputs": [
    {
     "name": "stdout",
     "output_type": "stream",
     "text": [
      "String without spaces: Thisisastringwithspaces.\n"
     ]
    }
   ],
   "source": [
    "#Question 7. Remove all whitespaces from a string.\n",
    "string_with_spaces = \"   This is a string with spaces.   \"\n",
    "no_spaces_string = string_with_spaces.replace(\" \", \"\")\n",
    "print(f\"String without spaces: {no_spaces_string}\")\n"
   ]
  },
  {
   "cell_type": "code",
   "execution_count": 10,
   "id": "f306e8ff-94ed-4315-aa34-c48f8d8636b6",
   "metadata": {},
   "outputs": [
    {
     "name": "stdout",
     "output_type": "stream",
     "text": [
      "Length without len(): 13\n"
     ]
    }
   ],
   "source": [
    "#Question 8. Find the length of a string without using the `len()` function.\n",
    "length_without_len = sum(1 for char in original_string)\n",
    "print(f\"Length without len(): {length_without_len}\")"
   ]
  },
  {
   "cell_type": "code",
   "execution_count": 11,
   "id": "f1e8d5f3-5ea1-43a2-9d6f-a172ccee3cd0",
   "metadata": {},
   "outputs": [
    {
     "name": "stdout",
     "output_type": "stream",
     "text": [
      "Does the string contain the word 'world'? True\n"
     ]
    }
   ],
   "source": [
    "#Question 9. Check if a string contains a specific word.\n",
    "specific_word = \"world\"\n",
    "contains_word = specific_word in original_string\n",
    "print(f\"Does the string contain the word 'world'? {contains_word}\")\n"
   ]
  },
  {
   "cell_type": "code",
   "execution_count": 12,
   "id": "61aa9122-cc98-47d9-99f8-d597fc48f7bf",
   "metadata": {},
   "outputs": [
    {
     "name": "stdout",
     "output_type": "stream",
     "text": [
      "String with replacement: greetings, world!\n"
     ]
    }
   ],
   "source": [
    "#Question 10. Replace a word in a string with another word.\n",
    "replacement_string = original_string.replace(\"hello\", \"greetings\")\n",
    "print(f\"String with replacement: {replacement_string}\")"
   ]
  },
  {
   "cell_type": "code",
   "execution_count": 13,
   "id": "678e126a-c16a-4229-badd-d9c342648de6",
   "metadata": {},
   "outputs": [
    {
     "name": "stdout",
     "output_type": "stream",
     "text": [
      "Occurrences of 'world': 1\n"
     ]
    }
   ],
   "source": [
    "#Question 11. Count the occurrences of a word in a string.\n",
    "word_to_count = \"world\"\n",
    "occurrences = original_string.count(word_to_count)\n",
    "print(f\"Occurrences of '{word_to_count}': {occurrences}\")\n"
   ]
  },
  {
   "cell_type": "code",
   "execution_count": 14,
   "id": "fcff0b43-c3f4-4a1e-a12f-67b507cc77bf",
   "metadata": {},
   "outputs": [
    {
     "name": "stdout",
     "output_type": "stream",
     "text": [
      "First occurrence index of 'world': 7\n"
     ]
    }
   ],
   "source": [
    "#Question 12. Find the first occurrence of a word in a string.\n",
    "first_occurrence_index = original_string.find(word_to_count)\n",
    "print(f\"First occurrence index of '{word_to_count}': {first_occurrence_index}\")"
   ]
  },
  {
   "cell_type": "code",
   "execution_count": 15,
   "id": "280163dc-5223-4f11-9c57-14984e206dc7",
   "metadata": {},
   "outputs": [
    {
     "name": "stdout",
     "output_type": "stream",
     "text": [
      "Last occurrence index of 'world': 7\n"
     ]
    }
   ],
   "source": [
    "#Question 13. Find the last occurrence of a word in a string.\n",
    "last_occurrence_index = original_string.rfind(word_to_count)\n",
    "print(f\"Last occurrence index of '{word_to_count}': {last_occurrence_index}\")"
   ]
  },
  {
   "cell_type": "code",
   "execution_count": 16,
   "id": "d9b73ef4-f441-42ff-b1a3-9ea703ec2dec",
   "metadata": {},
   "outputs": [
    {
     "name": "stdout",
     "output_type": "stream",
     "text": [
      "List of words: ['hello,', 'world!']\n"
     ]
    }
   ],
   "source": [
    "#Question 14. Split a string into a list of words.\n",
    "word_list = original_string.split()\n",
    "print(f\"List of words: {word_list}\")"
   ]
  },
  {
   "cell_type": "code",
   "execution_count": 17,
   "id": "05c7b04a-87f3-4099-8dba-2bdd763fe43c",
   "metadata": {},
   "outputs": [
    {
     "name": "stdout",
     "output_type": "stream",
     "text": [
      "Joined string: hello, world!\n"
     ]
    }
   ],
   "source": [
    "#Question 15. Join a list of words into a string.\n",
    "joined_string = \" \".join(word_list)\n",
    "print(f\"Joined string: {joined_string}\")"
   ]
  },
  {
   "cell_type": "code",
   "execution_count": 18,
   "id": "c39f3756-74c0-4f8a-8a88-808e15179660",
   "metadata": {},
   "outputs": [
    {
     "name": "stdout",
     "output_type": "stream",
     "text": [
      "String with underscores: hello,_world!\n"
     ]
    }
   ],
   "source": [
    "#Question 16. Convert a string where words are separated by spaces to one where words\n",
    "# are separated by underscores.\n",
    "underscored_string = original_string.replace(\" \", \"_\")\n",
    "print(f\"String with underscores: {underscored_string}\")"
   ]
  },
  {
   "cell_type": "code",
   "execution_count": 19,
   "id": "77a64651-5a4e-4e52-8d75-4d49a22af648",
   "metadata": {},
   "outputs": [
    {
     "name": "stdout",
     "output_type": "stream",
     "text": [
      "Does the string start with 'hello'? True\n"
     ]
    }
   ],
   "source": [
    "#Question 17. Check if a string starts with a specific word or phrase.\n",
    "starts_with_hello = original_string.startswith(\"hello\")\n",
    "print(f\"Does the string start with 'hello'? {starts_with_hello}\")"
   ]
  },
  {
   "cell_type": "code",
   "execution_count": 20,
   "id": "9657ed5d-0c13-4cd2-815b-0c38e7d67abd",
   "metadata": {},
   "outputs": [
    {
     "name": "stdout",
     "output_type": "stream",
     "text": [
      "Does the string end with 'world!'? True\n"
     ]
    }
   ],
   "source": [
    "#Question 18 Check if a string ends with a specific word or phrase.\n",
    "ends_with_world = original_string.endswith(\"world!\")\n",
    "print(f\"Does the string end with 'world!'? {ends_with_world}\")"
   ]
  },
  {
   "cell_type": "code",
   "execution_count": 21,
   "id": "cf013d0b-c8cf-4a4d-ac07-d92a7b12bcf4",
   "metadata": {},
   "outputs": [
    {
     "name": "stdout",
     "output_type": "stream",
     "text": [
      "Title case string: Hello, World!\n"
     ]
    }
   ],
   "source": [
    "#Question 19. Convert a string to title case.\n",
    "title_case_string = original_string.title()\n",
    "print(f\"Title case string: {title_case_string}\")"
   ]
  },
  {
   "cell_type": "code",
   "execution_count": 22,
   "id": "443c9caf-bb45-4794-bfe6-5cffc328027f",
   "metadata": {},
   "outputs": [
    {
     "name": "stdout",
     "output_type": "stream",
     "text": [
      "Longest word: hello,\n"
     ]
    }
   ],
   "source": [
    "#Question 20. Find the longest word in a string.\n",
    "longest_word = max(word_list, key=len)\n",
    "print(f\"Longest word: {longest_word}\")\n"
   ]
  },
  {
   "cell_type": "code",
   "execution_count": 23,
   "id": "d70d4f7f-4de4-4b14-b5b8-619cd594c60c",
   "metadata": {},
   "outputs": [
    {
     "name": "stdout",
     "output_type": "stream",
     "text": [
      "Shortest word: hello,\n"
     ]
    }
   ],
   "source": [
    "#Question 21. Find the shortest word in a string.\n",
    "shortest_word = min(word_list, key=len)\n",
    "print(f\"Shortest word: {shortest_word}\")\n"
   ]
  },
  {
   "cell_type": "code",
   "execution_count": 24,
   "id": "178c16cf-1a3c-4366-912c-cb0bd9cff112",
   "metadata": {},
   "outputs": [
    {
     "name": "stdout",
     "output_type": "stream",
     "text": [
      "String with reversed order of words: world! hello,\n"
     ]
    }
   ],
   "source": [
    "#Question 22. Reverse the order of words in a string.\n",
    "reversed_order_string = \" \".join(reversed(word_list))\n",
    "print(f\"String with reversed order of words: {reversed_order_string}\")"
   ]
  },
  {
   "cell_type": "code",
   "execution_count": 25,
   "id": "7dbb82f3-8c09-4a20-a2e0-c54470acde94",
   "metadata": {},
   "outputs": [
    {
     "name": "stdout",
     "output_type": "stream",
     "text": [
      "Is the string alphanumeric? False\n"
     ]
    }
   ],
   "source": [
    "#Question 23 Check if a string is alphanumeric.\n",
    "is_alphanumeric = original_string.isalnum()\n",
    "print(f\"Is the string alphanumeric? {is_alphanumeric}\")"
   ]
  },
  {
   "cell_type": "code",
   "execution_count": 26,
   "id": "cca6c8b0-4d76-4cd6-9b7f-faef72f810e5",
   "metadata": {},
   "outputs": [
    {
     "name": "stdout",
     "output_type": "stream",
     "text": [
      "All digits in the string: \n"
     ]
    }
   ],
   "source": [
    "#Question 24. Extract all digits from a string.\n",
    "digits_only = ''.join(char for char in original_string if char.isdigit())\n",
    "print(f\"All digits in the string: {digits_only}\")\n"
   ]
  },
  {
   "cell_type": "code",
   "execution_count": 27,
   "id": "d0516192-e47f-498c-8436-545ca4b08ba4",
   "metadata": {},
   "outputs": [
    {
     "name": "stdout",
     "output_type": "stream",
     "text": [
      "All alphabets in the string: helloworld\n"
     ]
    }
   ],
   "source": [
    "#Question 25. Extract all alphabets from a string.\n",
    "alphabets_only = ''.join(char for char in original_string if char.isalpha())\n",
    "print(f\"All alphabets in the string: {alphabets_only}\")\n"
   ]
  },
  {
   "cell_type": "code",
   "execution_count": 28,
   "id": "9ac5651c-a7c8-4bfa-b552-a8c856633861",
   "metadata": {},
   "outputs": [
    {
     "name": "stdout",
     "output_type": "stream",
     "text": [
      "Number of uppercase letters: 0\n"
     ]
    }
   ],
   "source": [
    "#Question 26. Count the number of uppercase letters in a string.\n",
    "uppercase_count = sum(1 for char in original_string if char.isupper())\n",
    "print(f\"Number of uppercase letters: {uppercase_count}\")"
   ]
  },
  {
   "cell_type": "code",
   "execution_count": 29,
   "id": "59e1e598-ce80-4050-a695-5249133a88d9",
   "metadata": {},
   "outputs": [
    {
     "name": "stdout",
     "output_type": "stream",
     "text": [
      "Number of lowercase letters: 10\n"
     ]
    }
   ],
   "source": [
    "#Question 27. Count the number of lowercase letters in a string.\n",
    "lowercase_count = sum(1 for char in original_string if char.islower())\n",
    "print(f\"Number of lowercase letters: {lowercase_count}\")\n"
   ]
  },
  {
   "cell_type": "code",
   "execution_count": 30,
   "id": "d5c4243c-c347-49c2-9e74-f4cbaa1d4d58",
   "metadata": {},
   "outputs": [
    {
     "name": "stdout",
     "output_type": "stream",
     "text": [
      "String with swapped case: HELLO, WORLD!\n"
     ]
    }
   ],
   "source": [
    "#Question 28. Swap the case of each character in a string.\n",
    "swapped_case_string = original_string.swapcase()\n",
    "print(f\"String with swapped case: {swapped_case_string}\")\n"
   ]
  },
  {
   "cell_type": "code",
   "execution_count": 31,
   "id": "4866c7d5-1fba-4444-a3e3-513b5d75c9b1",
   "metadata": {},
   "outputs": [
    {
     "name": "stdout",
     "output_type": "stream",
     "text": [
      "String without 'hello': , world!\n"
     ]
    }
   ],
   "source": [
    "#Question 29. Remove a specific word from a string.\n",
    "word_to_remove = \"hello\"\n",
    "string_without_word = original_string.replace(word_to_remove, \"\")\n",
    "print(f\"String without '{word_to_remove}': {string_without_word}\")"
   ]
  },
  {
   "cell_type": "code",
   "execution_count": 32,
   "id": "ebb9a965-2a1a-44ae-bc49-eebf04fe1156",
   "metadata": {},
   "outputs": [
    {
     "name": "stdout",
     "output_type": "stream",
     "text": [
      "Is 'test@example.com' a valid email address? True\n"
     ]
    }
   ],
   "source": [
    "#Question 30. Check if a string is a valid email address.\n",
    "import re\n",
    "\n",
    "def is_valid_email(email):\n",
    "    email_regex = r'^[a-zA-Z0-9_.+-]+@[a-zA-Z0-9-]+\\.[a-zA-Z0-9-.]+$'\n",
    "    return re.match(email_regex, email) is not None\n",
    "\n",
    "email_address = \"test@example.com\"\n",
    "is_valid = is_valid_email(email_address)\n",
    "print(f\"Is '{email_address}' a valid email address? {is_valid}\")"
   ]
  },
  {
   "cell_type": "code",
   "execution_count": 33,
   "id": "76c38c1f-204c-456f-93d8-9219b8cb1d2d",
   "metadata": {},
   "outputs": [
    {
     "name": "stdout",
     "output_type": "stream",
     "text": [
      "Username extracted from 'test@example.com': test\n"
     ]
    }
   ],
   "source": [
    "#Question 31. Extract the username from an email address string.\n",
    "def extract_username(email):\n",
    "    return email.split('@')[0]\n",
    "\n",
    "username = extract_username(email_address)\n",
    "print(f\"Username extracted from '{email_address}': {username}\")\n"
   ]
  },
  {
   "cell_type": "code",
   "execution_count": 34,
   "id": "0e06f107-e66e-491f-b4cf-084fd35edf77",
   "metadata": {},
   "outputs": [
    {
     "name": "stdout",
     "output_type": "stream",
     "text": [
      "Domain extracted from 'test@example.com': example.com\n"
     ]
    }
   ],
   "source": [
    "#Question 32. Extract the domain name from an email address string.\n",
    "def extract_domain(email):\n",
    "    return email.split('@')[1]\n",
    "\n",
    "domain = extract_domain(email_address)\n",
    "print(f\"Domain extracted from '{email_address}': {domain}\")"
   ]
  },
  {
   "cell_type": "code",
   "execution_count": 35,
   "id": "19ba0d4f-4bdb-4600-b79d-d7290fac4708",
   "metadata": {},
   "outputs": [
    {
     "name": "stdout",
     "output_type": "stream",
     "text": [
      "String with single spaces: This is a string with multiple spaces.\n"
     ]
    }
   ],
   "source": [
    "#Question 33. Replace multiple spaces in a string with a single space.\n",
    "multiple_spaces_string = \"This     is    a    string     with multiple     spaces.\"\n",
    "single_space_string = ' '.join(multiple_spaces_string.split())\n",
    "print(f\"String with single spaces: {single_space_string}\")\n"
   ]
  },
  {
   "cell_type": "code",
   "execution_count": 36,
   "id": "c1527e32-4678-4aa5-bf06-fd3b38079f55",
   "metadata": {},
   "outputs": [
    {
     "name": "stdout",
     "output_type": "stream",
     "text": [
      "Is 'https://www.example.com' a valid URL? True\n"
     ]
    }
   ],
   "source": [
    "#Question 34. Check if a string is a valid URL.\n",
    "import re\n",
    "\n",
    "def is_valid_url(url):\n",
    "    url_regex = r'^(http|https):\\/\\/([a-zA-Z0-9-]+\\.)*[a-zA-Z]{2,}(\\/[a-zA-Z0-9-._~:/?#[\\]@!$&\\'()*+,;=]*)?$'\n",
    "    return re.match(url_regex, url) is not None\n",
    "\n",
    "url = \"https://www.example.com\"\n",
    "is_valid_url_check = is_valid_url(url)\n",
    "print(f\"Is '{url}' a valid URL? {is_valid_url_check}\")"
   ]
  },
  {
   "cell_type": "code",
   "execution_count": 37,
   "id": "120ac8db-f8cd-4758-a46d-6f0d0d3a2ac2",
   "metadata": {},
   "outputs": [
    {
     "name": "stdout",
     "output_type": "stream",
     "text": [
      "Protocol extracted from 'https://www.example.com': https\n"
     ]
    }
   ],
   "source": [
    "#Question 35. Extract the protocol (http or https) from a URL string.\n",
    "def extract_protocol(url):\n",
    "    return url.split('://')[0]\n",
    "\n",
    "protocol = extract_protocol(url)\n",
    "print(f\"Protocol extracted from '{url}': {protocol}\")"
   ]
  },
  {
   "cell_type": "code",
   "execution_count": 38,
   "id": "2b08a541-e78a-4b20-aee9-8e0131c3ed8c",
   "metadata": {},
   "outputs": [
    {
     "name": "stdout",
     "output_type": "stream",
     "text": [
      "Character frequency: Counter({'l': 3, 'o': 2, 'h': 1, 'e': 1, ',': 1, ' ': 1, 'w': 1, 'r': 1, 'd': 1, '!': 1})\n"
     ]
    }
   ],
   "source": [
    "#Question 36. Find the frequency of each character in a string.\n",
    "from collections import Counter\n",
    "\n",
    "character_frequency = Counter(original_string)\n",
    "print(f\"Character frequency: {character_frequency}\")\n"
   ]
  },
  {
   "cell_type": "code",
   "execution_count": 39,
   "id": "f9ccb19a-b045-4b25-a17d-9cf45e5e05a2",
   "metadata": {},
   "outputs": [
    {
     "name": "stdout",
     "output_type": "stream",
     "text": [
      "String without punctuation: hello world\n"
     ]
    }
   ],
   "source": [
    "#Question 37. Remove all punctuation from a string.\n",
    "import string\n",
    "\n",
    "no_punctuation_string = original_string.translate(str.maketrans(\"\", \"\", string.punctuation))\n",
    "print(f\"String without punctuation: {no_punctuation_string}\")"
   ]
  },
  {
   "cell_type": "code",
   "execution_count": 40,
   "id": "bec22fbc-f885-4a08-a0f5-3a3494969c45",
   "metadata": {},
   "outputs": [
    {
     "name": "stdout",
     "output_type": "stream",
     "text": [
      "Does the string contain only digits? False\n"
     ]
    }
   ],
   "source": [
    "#Question 38. Check if a string contains only digits.\n",
    "contains_only_digits = original_string.isdigit()\n",
    "print(f\"Does the string contain only digits? {contains_only_digits}\")"
   ]
  },
  {
   "cell_type": "code",
   "execution_count": 41,
   "id": "a1a2cf24-089c-4d34-912c-35218f546c05",
   "metadata": {},
   "outputs": [
    {
     "name": "stdout",
     "output_type": "stream",
     "text": [
      "Does the string contain only alphabets? False\n"
     ]
    }
   ],
   "source": [
    "#Question 39. Check if a string contains only alphabets.\n",
    "contains_only_alphabets = original_string.isalpha()\n",
    "print(f\"Does the string contain only alphabets? {contains_only_alphabets}\")"
   ]
  },
  {
   "cell_type": "code",
   "execution_count": 42,
   "id": "5c04b42f-da13-4200-a3d3-a3b1166e9b97",
   "metadata": {},
   "outputs": [
    {
     "name": "stdout",
     "output_type": "stream",
     "text": [
      "List of characters: ['h', 'e', 'l', 'l', 'o', ',', ' ', 'w', 'o', 'r', 'l', 'd', '!']\n"
     ]
    }
   ],
   "source": [
    "#Question 40. Convert a string to a list of characters.\n",
    "character_list = list(original_string)\n",
    "print(f\"List of characters: {character_list}\")\n"
   ]
  },
  {
   "cell_type": "code",
   "execution_count": 43,
   "id": "e0106542-f0da-4d6c-a0f3-c5ea667eb961",
   "metadata": {},
   "outputs": [
    {
     "name": "stdout",
     "output_type": "stream",
     "text": [
      "Are 'listen' and 'silent' anagrams? True\n"
     ]
    }
   ],
   "source": [
    "#Question 41. Check if two strings are anagrams.\n",
    "def are_anagrams(str1, str2):\n",
    "    return Counter(str1) == Counter(str2)\n",
    "\n",
    "string1 = \"listen\"\n",
    "string2 = \"silent\"\n",
    "are_anagrams_check = are_anagrams(string1, string2)\n",
    "print(f\"Are '{string1}' and '{string2}' anagrams? {are_anagrams_check}\")"
   ]
  },
  {
   "cell_type": "code",
   "execution_count": 44,
   "id": "67c99da0-498c-4b74-b178-bc0108180390",
   "metadata": {},
   "outputs": [
    {
     "name": "stdout",
     "output_type": "stream",
     "text": [
      "Caesar cipher encoded string: khoor, zruog!\n"
     ]
    }
   ],
   "source": [
    "#Question 42. Encode a string using a Caesar cipher.\n",
    "def caesar_cipher_encode(text, shift):\n",
    "    result = \"\"\n",
    "    for char in text:\n",
    "        if char.isalpha():\n",
    "            offset = ord('A') if char.isupper() else ord('a')\n",
    "            result += chr((ord(char) - offset + shift) % 26 + offset)\n",
    "        else:\n",
    "            result += char\n",
    "    return result\n",
    "\n",
    "caesar_encoded_string = caesar_cipher_encode(original_string, shift=3)\n",
    "print(f\"Caesar cipher encoded string: {caesar_encoded_string}\")\n"
   ]
  },
  {
   "cell_type": "code",
   "execution_count": 45,
   "id": "685ad1a3-9583-47ab-b148-86aff91b3bc8",
   "metadata": {},
   "outputs": [
    {
     "name": "stdout",
     "output_type": "stream",
     "text": [
      "Caesar cipher decoded string: hello, world!\n"
     ]
    }
   ],
   "source": [
    "#Question 43. Decode a Caesar cipher encoded string.\n",
    "def caesar_cipher_decode(text, shift):\n",
    "    return caesar_cipher_encode(text, -shift)\n",
    "\n",
    "caesar_decoded_string = caesar_cipher_decode(caesar_encoded_string, shift=3)\n",
    "print(f\"Caesar cipher decoded string: {caesar_decoded_string}\")"
   ]
  },
  {
   "cell_type": "code",
   "execution_count": 46,
   "id": "2d7b6b38-7851-47bd-903f-cf582f241203",
   "metadata": {},
   "outputs": [
    {
     "name": "stdout",
     "output_type": "stream",
     "text": [
      "Most frequent word: hello,\n"
     ]
    }
   ],
   "source": [
    "#Question 44. Find the most frequent word in a string.\n",
    "most_frequent_word = max(word_list, key=word_list.count)\n",
    "print(f\"Most frequent word: {most_frequent_word}\")\n"
   ]
  },
  {
   "cell_type": "code",
   "execution_count": 47,
   "id": "bdd9be71-97d1-4830-b087-a1afae3e2d3d",
   "metadata": {},
   "outputs": [
    {
     "name": "stdout",
     "output_type": "stream",
     "text": [
      "Unique words: ['hello,', 'world!']\n"
     ]
    }
   ],
   "source": [
    "#Question 45. Find all unique words in a string.\n",
    "unique_words = list(set(word_list))\n",
    "print(f\"Unique words: {unique_words}\")"
   ]
  },
  {
   "cell_type": "code",
   "execution_count": 48,
   "id": "2ee2a33c-84d2-48c9-a695-81f849be4d25",
   "metadata": {},
   "outputs": [
    {
     "name": "stdout",
     "output_type": "stream",
     "text": [
      "Total syllable count: 3\n"
     ]
    }
   ],
   "source": [
    "#Question 46. Count the number of syllables in a string.\n",
    "def count_syllables(word):\n",
    "    vowels = \"aeiouAEIOU\"\n",
    "    count = 0\n",
    "    for char in word:\n",
    "        if char in vowels:\n",
    "            count += 1\n",
    "    return count\n",
    "\n",
    "syllable_count = sum(count_syllables(word) for word in word_list)\n",
    "print(f\"Total syllable count: {syllable_count}\")"
   ]
  },
  {
   "cell_type": "code",
   "execution_count": 49,
   "id": "27e8181b-7248-4da9-9a6e-e2ec381f5665",
   "metadata": {},
   "outputs": [
    {
     "name": "stdout",
     "output_type": "stream",
     "text": [
      "Does the string contain special characters? True\n"
     ]
    }
   ],
   "source": [
    "#Question 47. Check if a string contains any special characters.\n",
    "def contains_special_characters(input_str):\n",
    "    return any(char for char in input_str if not char.isalnum() and char != ' ')\n",
    "\n",
    "contains_special_chars_check = contains_special_characters(original_string)\n",
    "print(f\"Does the string contain special characters? {contains_special_chars_check}\")"
   ]
  },
  {
   "cell_type": "code",
   "execution_count": 50,
   "id": "7ba79cdf-6f1a-4ba2-a45e-6f9b51098b13",
   "metadata": {},
   "outputs": [
    {
     "name": "stdout",
     "output_type": "stream",
     "text": [
      "String without the 3th word: hello, world!\n"
     ]
    }
   ],
   "source": [
    "#Question 48. Remove the nth word from a string.\n",
    "def remove_nth_word(input_str, n):\n",
    "    words = input_str.split()\n",
    "    if 1 <= n <= len(words):\n",
    "        del words[n-1]\n",
    "    return ' '.join(words)\n",
    "\n",
    "n = 3  # Remove the third word\n",
    "string_without_nth_word = remove_nth_word(original_string, n)\n",
    "print(f\"String without the {n}th word: {string_without_nth_word}\")"
   ]
  },
  {
   "cell_type": "code",
   "execution_count": 51,
   "id": "54a8e6c1-f881-4ce2-a978-ca9133d1cb9c",
   "metadata": {},
   "outputs": [
    {
     "name": "stdout",
     "output_type": "stream",
     "text": [
      "String with 'beautiful' inserted at position 3: hello, world! beautiful\n"
     ]
    }
   ],
   "source": [
    "#Question 49. Insert a word at the nth position in a string.\n",
    "def insert_word_at_nth_position(input_str, word, n):\n",
    "    words = input_str.split()\n",
    "    words.insert(n-1, word)\n",
    "    return ' '.join(words)\n",
    "\n",
    "word_to_insert = \"beautiful\"\n",
    "string_with_word_inserted = insert_word_at_nth_position(original_string, word_to_insert, n)\n",
    "print(f\"String with '{word_to_insert}' inserted at position {n}: {string_with_word_inserted}\")"
   ]
  },
  {
   "cell_type": "code",
   "execution_count": 52,
   "id": "bed385df-86d2-4651-9b7f-a72e348dd210",
   "metadata": {},
   "outputs": [
    {
     "name": "stdout",
     "output_type": "stream",
     "text": [
      "List of lists from CSV string: [['John', 'Doe', '30'], ['Jane', 'Smith', '25'], ['Bob', 'Johnson', '35']]\n"
     ]
    }
   ],
   "source": [
    "#Question 50. Convert a CSV string to a list of lists.\n",
    "csv_string = \"John,Doe,30\\nJane,Smith,25\\nBob,Johnson,35\"\n",
    "list_of_lists = [line.split(',') for line in csv_string.split('\\n') if line]\n",
    "print(f\"List of lists from CSV string: {list_of_lists}\")"
   ]
  },
  {
   "cell_type": "code",
   "execution_count": 53,
   "id": "47477c1e-c261-4421-9371-54a1da406a16",
   "metadata": {},
   "outputs": [],
   "source": [
    "\n",
    "#LIST BASED PRACTICE PROBLEM"
   ]
  },
  {
   "cell_type": "code",
   "execution_count": 54,
   "id": "1c0ada38-a0c0-4c1d-ae2e-087b9115140e",
   "metadata": {},
   "outputs": [
    {
     "name": "stdout",
     "output_type": "stream",
     "text": [
      "List of integers from 1 to 10: [1, 2, 3, 4, 5, 6, 7, 8, 9, 10]\n"
     ]
    }
   ],
   "source": [
    "#Question 1. List creation with integers from 1 to 10.\n",
    "integer_list = list(range(1, 11))\n",
    "print(f\"List of integers from 1 to 10: {integer_list}\")"
   ]
  },
  {
   "cell_type": "code",
   "execution_count": 55,
   "id": "2e51573f-8f63-448a-ad85-c59901c522c4",
   "metadata": {},
   "outputs": [
    {
     "name": "stdout",
     "output_type": "stream",
     "text": [
      "Length without len(): 10\n"
     ]
    }
   ],
   "source": [
    "#Question 2. Find the length of a list without using the `len()` function.\n",
    "length_without_len = sum(1 for _ in integer_list)\n",
    "print(f\"Length without len(): {length_without_len}\")"
   ]
  },
  {
   "cell_type": "code",
   "execution_count": 56,
   "id": "b009c23f-ddb2-4262-b08a-347a5ffd31dc",
   "metadata": {},
   "outputs": [
    {
     "name": "stdout",
     "output_type": "stream",
     "text": [
      "List after appending 11: [1, 2, 3, 4, 5, 6, 7, 8, 9, 10, 11]\n"
     ]
    }
   ],
   "source": [
    "#Question 3. Append an element to the end of a list.\n",
    "new_element = 11\n",
    "integer_list.append(new_element)\n",
    "print(f\"List after appending {new_element}: {integer_list}\")"
   ]
  },
  {
   "cell_type": "code",
   "execution_count": 57,
   "id": "736709b9-d126-40c7-8f86-47a583dec866",
   "metadata": {},
   "outputs": [
    {
     "name": "stdout",
     "output_type": "stream",
     "text": [
      "List after inserting 15 at index 2: [1, 2, 15, 3, 4, 5, 6, 7, 8, 9, 10, 11]\n"
     ]
    }
   ],
   "source": [
    "#Question 4. Insert an element at a specific index in a list.\n",
    "element_to_insert = 15\n",
    "index_to_insert = 2\n",
    "integer_list.insert(index_to_insert, element_to_insert)\n",
    "print(f\"List after inserting {element_to_insert} at index {index_to_insert}: {integer_list}\")"
   ]
  },
  {
   "cell_type": "code",
   "execution_count": 58,
   "id": "1e131033-a2d5-4a6c-adcc-dc864602912e",
   "metadata": {},
   "outputs": [
    {
     "name": "stdout",
     "output_type": "stream",
     "text": [
      "List after removing 5: [1, 2, 15, 3, 4, 6, 7, 8, 9, 10, 11]\n"
     ]
    }
   ],
   "source": [
    "#Question 5. Remove an element from a list by its value.\n",
    "element_to_remove = 5\n",
    "integer_list.remove(element_to_remove)\n",
    "print(f\"List after removing {element_to_remove}: {integer_list}\")"
   ]
  },
  {
   "cell_type": "code",
   "execution_count": 59,
   "id": "490562a6-3099-4797-91f0-5541c7e01e37",
   "metadata": {},
   "outputs": [
    {
     "name": "stdout",
     "output_type": "stream",
     "text": [
      "List after removing element at index 3: [1, 2, 15, 4, 6, 7, 8, 9, 10, 11]\n"
     ]
    }
   ],
   "source": [
    "#Question 6. Remove an element from a list by its index.\n",
    "index_to_remove = 3\n",
    "del integer_list[index_to_remove]\n",
    "print(f\"List after removing element at index {index_to_remove}: {integer_list}\")"
   ]
  },
  {
   "cell_type": "code",
   "execution_count": 60,
   "id": "428b24e0-962c-4bbc-a0fa-20688604d627",
   "metadata": {},
   "outputs": [
    {
     "name": "stdout",
     "output_type": "stream",
     "text": [
      "Does 8 exist in the list? True\n"
     ]
    }
   ],
   "source": [
    "#Question 7. Check if an element exists in a list.\n",
    "element_to_check = 8\n",
    "exists_in_list = element_to_check in integer_list\n",
    "print(f\"Does {element_to_check} exist in the list? {exists_in_list}\")"
   ]
  },
  {
   "cell_type": "code",
   "execution_count": 62,
   "id": "a7055ed2-fb4f-426a-a298-021ffee244da",
   "metadata": {},
   "outputs": [
    {
     "name": "stdout",
     "output_type": "stream",
     "text": [
      "Index of the first occurrence of 7: 5\n"
     ]
    }
   ],
   "source": [
    "#Question 8. Find the index of the first occurrence of an element in a list.\n",
    "element_to_find_index = 7\n",
    "index_of_element = integer_list.index(element_to_find_index)\n",
    "print(f\"Index of the first occurrence of {element_to_find_index}: {index_of_element}\")"
   ]
  },
  {
   "cell_type": "code",
   "execution_count": 63,
   "id": "b0f3af38-b5c9-4feb-b523-62c3e9e72cb1",
   "metadata": {},
   "outputs": [
    {
     "name": "stdout",
     "output_type": "stream",
     "text": [
      "Occurrences of 3 in the list: 0\n"
     ]
    }
   ],
   "source": [
    "#Question  9. Count the occurrences of an element in a list.\n",
    "element_to_count = 3\n",
    "occurrences_count = integer_list.count(element_to_count)\n",
    "print(f\"Occurrences of {element_to_count} in the list: {occurrences_count}\")"
   ]
  },
  {
   "cell_type": "code",
   "execution_count": 64,
   "id": "4b4d4500-9a3b-4a88-a73e-5259f60e5e43",
   "metadata": {},
   "outputs": [
    {
     "name": "stdout",
     "output_type": "stream",
     "text": [
      "Reversed list: [11, 10, 9, 8, 7, 6, 4, 15, 2, 1]\n"
     ]
    }
   ],
   "source": [
    "#Question 10. Reverse the order of elements in a list.\n",
    "reversed_list = list(reversed(integer_list))\n",
    "print(f\"Reversed list: {reversed_list}\")"
   ]
  },
  {
   "cell_type": "code",
   "execution_count": 65,
   "id": "c1112db8-b6a5-47f7-81ae-2a107d3e502f",
   "metadata": {},
   "outputs": [
    {
     "name": "stdout",
     "output_type": "stream",
     "text": [
      "Sorted list in ascending order: [1, 2, 4, 6, 7, 8, 9, 10, 11, 15]\n",
      "Sorted list in descending order: [15, 11, 10, 9, 8, 7, 6, 4, 2, 1]\n",
      "List of even numbers from 1 to 20: [2, 4, 6, 8, 10, 12, 14, 16, 18, 20]\n",
      "List of odd numbers from 1 to 20: [1, 3, 5, 7, 9, 11, 13, 15, 17, 19]\n",
      "Sum of all elements in the list: 73\n",
      "Maximum value in the list: 15\n",
      "Minimum value in the list: 1\n",
      "List of squares of numbers from 1 to 10: [1, 4, 9, 16, 25, 36, 49, 64, 81, 100]\n",
      "List of random numbers: [48, 39, 25, 75, 70, 87, 58, 35, 52, 72]\n",
      "List with duplicates removed: [1, 2, 4, 6, 7, 8, 9, 10, 11, 15]\n",
      "Common elements between two lists: [3, 4, 5]\n",
      "Difference between two lists: [1, 2]\n",
      "Merged list: [1, 2, 3, 4, 5, 3, 4, 5, 6, 7]\n",
      "List with elements multiplied by 2: [2, 4, 30, 8, 12, 14, 16, 18, 20, 22]\n",
      "List with even numbers filtered out: [1, 15, 7, 9, 11]\n"
     ]
    }
   ],
   "source": [
    "# 11. Sort a list in ascending order.\n",
    "sorted_list_ascending = sorted(integer_list)\n",
    "print(f\"Sorted list in ascending order: {sorted_list_ascending}\")\n",
    "\n",
    "# 12. Sort a list in descending order.\n",
    "sorted_list_descending = sorted(integer_list, reverse=True)\n",
    "print(f\"Sorted list in descending order: {sorted_list_descending}\")\n",
    "\n",
    "# 13. Create a list of even numbers from 1 to 20.\n",
    "even_numbers_list = list(range(2, 21, 2))\n",
    "print(f\"List of even numbers from 1 to 20: {even_numbers_list}\")\n",
    "\n",
    "# 14. Create a list of odd numbers from 1 to 20.\n",
    "odd_numbers_list = list(range(1, 21, 2))\n",
    "print(f\"List of odd numbers from 1 to 20: {odd_numbers_list}\")\n",
    "\n",
    "# 15. Find the sum of all elements in a list.\n",
    "sum_of_elements = sum(integer_list)\n",
    "print(f\"Sum of all elements in the list: {sum_of_elements}\")\n",
    "\n",
    "# 16. Find the maximum value in a list.\n",
    "max_value = max(integer_list)\n",
    "print(f\"Maximum value in the list: {max_value}\")\n",
    "\n",
    "# 17. Find the minimum value in a list.\n",
    "min_value = min(integer_list)\n",
    "print(f\"Minimum value in the list: {min_value}\")\n",
    "\n",
    "# 18. Create a list of squares of numbers from 1 to 10.\n",
    "squares_list = [x**2 for x in range(1, 11)]\n",
    "print(f\"List of squares of numbers from 1 to 10: {squares_list}\")\n",
    "\n",
    "# 19. Create a list of random numbers.\n",
    "import random\n",
    "\n",
    "random_numbers_list = [random.randint(1, 100) for _ in range(10)]\n",
    "print(f\"List of random numbers: {random_numbers_list}\")\n",
    "\n",
    "# 20. Remove duplicates from a list.\n",
    "unique_elements_list = list(set(integer_list))\n",
    "print(f\"List with duplicates removed: {unique_elements_list}\")\n",
    "\n",
    "# 21. Find the common elements between two lists.\n",
    "list1 = [1, 2, 3, 4, 5]\n",
    "list2 = [3, 4, 5, 6, 7]\n",
    "common_elements = list(set(list1) & set(list2))\n",
    "print(f\"Common elements between two lists: {common_elements}\")\n",
    "\n",
    "# 22. Find the difference between two lists.\n",
    "difference_list = list(set(list1) - set(list2))\n",
    "print(f\"Difference between two lists: {difference_list}\")\n",
    "\n",
    "# 23. Merge two lists.\n",
    "merged_list = list1 + list2\n",
    "print(f\"Merged list: {merged_list}\")\n",
    "\n",
    "# 24. Multiply all elements in a list by 2.\n",
    "doubled_elements = [x * 2 for x in integer_list]\n",
    "print(f\"List with elements multiplied by 2: {doubled_elements}\")\n",
    "\n",
    "# 25. Filter out all even numbers from a list.\n",
    "filtered_odd_numbers = list(filter(lambda x: x % 2 != 0, integer_list))\n",
    "print(f\"List with even numbers filtered out: {filtered_odd_numbers}\")\n"
   ]
  },
  {
   "cell_type": "code",
   "execution_count": 66,
   "id": "9842bea1-25e2-4b92-9cc9-d6086310c992",
   "metadata": {},
   "outputs": [
    {
     "name": "stdout",
     "output_type": "stream",
     "text": [
      "List of strings converted to integers: [1, 2, 3, 4, 5]\n",
      "List of integers converted to strings: ['1', '2', '15', '4', '6', '7', '8', '9', '10', '11']\n",
      "Flattened list: [1, 2, 3, 4, 5, 6, 7, 8, 9]\n",
      "List of the first 10 Fibonacci numbers: [0, 1, 1, 2, 3, 5, 8, 13, 21, 34]\n",
      "Is the list sorted? False\n",
      "List rotated to the left by 2 positions: [15, 4, 6, 7, 8, 9, 10, 11, 1, 2]\n",
      "List rotated to the right by 2 positions: [10, 11, 1, 2, 15, 4, 6, 7, 8, 9]\n",
      "List of prime numbers up to 50: [2, 3, 5, 7, 11, 13, 17, 19, 23, 29, 31, 37, 41, 43, 47]\n",
      "List split into chunks of size 3: [[1, 2, 15], [4, 6, 7], [8, 9, 10], [11]]\n",
      "Second largest number in the list: 11\n",
      "List with elements replaced by their squares: [1, 4, 225, 16, 36, 49, 64, 81, 100, 121]\n",
      "List converted to dictionary: {1: 0, 2: 1, 15: 2, 4: 3, 6: 4, 7: 5, 8: 6, 9: 7, 10: 8, 11: 9}\n",
      "List after shuffling: [15, 8, 7, 2, 10, 4, 11, 1, 6, 9]\n",
      "List of the first 10 factorial numbers: [1, 2, 6, 24, 120, 720, 5040, 40320, 362880, 3628800]\n"
     ]
    }
   ],
   "source": [
    "# 26. Convert a list of strings to a list of integers.\n",
    "string_list = ['1', '2', '3', '4', '5']\n",
    "int_list = list(map(int, string_list))\n",
    "print(f\"List of strings converted to integers: {int_list}\")\n",
    "\n",
    "# 27. Convert a list of integers to a list of strings.\n",
    "string_int_list = list(map(str, integer_list))\n",
    "print(f\"List of integers converted to strings: {string_int_list}\")\n",
    "\n",
    "# 28. Flatten a nested list.\n",
    "nested_list = [[1, 2, 3], [4, 5, 6], [7, 8, 9]]\n",
    "flattened_list = [item for sublist in nested_list for item in sublist]\n",
    "print(f\"Flattened list: {flattened_list}\")\n",
    "\n",
    "# 29. Create a list of the first 10 Fibonacci numbers.\n",
    "def fibonacci(n):\n",
    "    fib_list = [0, 1]\n",
    "    while len(fib_list) < n:\n",
    "        fib_list.append(fib_list[-1] + fib_list[-2])\n",
    "    return fib_list\n",
    "\n",
    "first_10_fibonacci = fibonacci(10)\n",
    "print(f\"List of the first 10 Fibonacci numbers: {first_10_fibonacci}\")\n",
    "\n",
    "# 30. Check if a list is sorted.\n",
    "is_sorted = all(integer_list[i] <= integer_list[i + 1] for i in range(len(integer_list) - 1))\n",
    "print(f\"Is the list sorted? {is_sorted}\")\n",
    "\n",
    "# 31. Rotate a list to the left by `n` positions.\n",
    "n_positions_left = 2\n",
    "rotated_left_list = integer_list[n_positions_left:] + integer_list[:n_positions_left]\n",
    "print(f\"List rotated to the left by {n_positions_left} positions: {rotated_left_list}\")\n",
    "\n",
    "# 32. Rotate a list to the right by `n` positions.\n",
    "n_positions_right = 2\n",
    "rotated_right_list = integer_list[-n_positions_right:] + integer_list[:-n_positions_right]\n",
    "print(f\"List rotated to the right by {n_positions_right} positions: {rotated_right_list}\")\n",
    "\n",
    "# 33. Create a list of prime numbers up to 50.\n",
    "def is_prime(num):\n",
    "    if num < 2:\n",
    "        return False\n",
    "    for i in range(2, int(num**0.5) + 1):\n",
    "        if num % i == 0:\n",
    "            return False\n",
    "    return True\n",
    "\n",
    "prime_numbers_list = [x for x in range(2, 51) if is_prime(x)]\n",
    "print(f\"List of prime numbers up to 50: {prime_numbers_list}\")\n",
    "\n",
    "# 34. Split a list into chunks of size `n`.\n",
    "n_chunk_size = 3\n",
    "chunked_list = [integer_list[i:i + n_chunk_size] for i in range(0, len(integer_list), n_chunk_size)]\n",
    "print(f\"List split into chunks of size {n_chunk_size}: {chunked_list}\")\n",
    "\n",
    "# 35. Find the second largest number in a list.\n",
    "second_largest = sorted(set(integer_list))[-2]\n",
    "print(f\"Second largest number in the list: {second_largest}\")\n",
    "\n",
    "# 36. Replace every element in a list with its square.\n",
    "squared_elements = [x**2 for x in integer_list]\n",
    "print(f\"List with elements replaced by their squares: {squared_elements}\")\n",
    "\n",
    "# 37. Convert a list to a dictionary where list elements become keys and their indices become values.\n",
    "list_to_dict = {value: index for index, value in enumerate(integer_list)}\n",
    "print(f\"List converted to dictionary: {list_to_dict}\")\n",
    "\n",
    "# 38. Shuffle the elements of a list randomly.\n",
    "shuffled_list = random.sample(integer_list, len(integer_list))\n",
    "print(f\"List after shuffling: {shuffled_list}\")\n",
    "\n",
    "# 39. Create a list of the first 10 factorial numbers.\n",
    "import math\n",
    "\n",
    "factorial_numbers = [math.factorial(x) for x in range(1, 11)]\n",
    "print(f\"List of the first 10 factorial numbers: {factorial_numbers}\")\n"
   ]
  },
  {
   "cell_type": "code",
   "execution_count": 67,
   "id": "f02376d5-d4b4-44ac-9459-fcc3c30e558a",
   "metadata": {},
   "outputs": [
    {
     "name": "stdout",
     "output_type": "stream",
     "text": [
      "List of strings converted to integers: [1, 2, 3, 4, 5]\n",
      "List of integers converted to strings: ['1', '2', '15', '4', '6', '7', '8', '9', '10', '11']\n",
      "Flattened list: [1, 2, 3, 4, 5, 6, 7, 8, 9]\n",
      "List of the first 10 Fibonacci numbers: [0, 1, 1, 2, 3, 5, 8, 13, 21, 34]\n",
      "Is the list sorted? False\n",
      "List rotated to the left by 2 positions: [15, 4, 6, 7, 8, 9, 10, 11, 1, 2]\n",
      "List rotated to the right by 2 positions: [10, 11, 1, 2, 15, 4, 6, 7, 8, 9]\n",
      "List of prime numbers up to 50: [2, 3, 5, 7, 11, 13, 17, 19, 23, 29, 31, 37, 41, 43, 47]\n",
      "List split into chunks of size 3: [[1, 2, 15], [4, 6, 7], [8, 9, 10], [11]]\n",
      "Second largest number in the list: 11\n",
      "List with elements replaced by their squares: [1, 4, 225, 16, 36, 49, 64, 81, 100, 121]\n",
      "List converted to dictionary: {1: 0, 2: 1, 15: 2, 4: 3, 6: 4, 7: 5, 8: 6, 9: 7, 10: 8, 11: 9}\n",
      "List after shuffling: [4, 10, 15, 8, 7, 9, 2, 1, 11, 6]\n",
      "List of the first 10 factorial numbers: [1, 2, 6, 24, 120, 720, 5040, 40320, 362880, 3628800]\n"
     ]
    }
   ],
   "source": [
    "# 26. Convert a list of strings to a list of integers.\n",
    "string_list = ['1', '2', '3', '4', '5']\n",
    "int_list = list(map(int, string_list))\n",
    "print(f\"List of strings converted to integers: {int_list}\")\n",
    "\n",
    "# 27. Convert a list of integers to a list of strings.\n",
    "string_int_list = list(map(str, integer_list))\n",
    "print(f\"List of integers converted to strings: {string_int_list}\")\n",
    "\n",
    "# 28. Flatten a nested list.\n",
    "nested_list = [[1, 2, 3], [4, 5, 6], [7, 8, 9]]\n",
    "flattened_list = [item for sublist in nested_list for item in sublist]\n",
    "print(f\"Flattened list: {flattened_list}\")\n",
    "\n",
    "# 29. Create a list of the first 10 Fibonacci numbers.\n",
    "def fibonacci(n):\n",
    "    fib_list = [0, 1]\n",
    "    while len(fib_list) < n:\n",
    "        fib_list.append(fib_list[-1] + fib_list[-2])\n",
    "    return fib_list\n",
    "\n",
    "first_10_fibonacci = fibonacci(10)\n",
    "print(f\"List of the first 10 Fibonacci numbers: {first_10_fibonacci}\")\n",
    "\n",
    "# 30. Check if a list is sorted.\n",
    "is_sorted = all(integer_list[i] <= integer_list[i + 1] for i in range(len(integer_list) - 1))\n",
    "print(f\"Is the list sorted? {is_sorted}\")\n",
    "\n",
    "# 31. Rotate a list to the left by `n` positions.\n",
    "n_positions_left = 2\n",
    "rotated_left_list = integer_list[n_positions_left:] + integer_list[:n_positions_left]\n",
    "print(f\"List rotated to the left by {n_positions_left} positions: {rotated_left_list}\")\n",
    "\n",
    "# 32. Rotate a list to the right by `n` positions.\n",
    "n_positions_right = 2\n",
    "rotated_right_list = integer_list[-n_positions_right:] + integer_list[:-n_positions_right]\n",
    "print(f\"List rotated to the right by {n_positions_right} positions: {rotated_right_list}\")\n",
    "\n",
    "# 33. Create a list of prime numbers up to 50.\n",
    "def is_prime(num):\n",
    "    if num < 2:\n",
    "        return False\n",
    "    for i in range(2, int(num**0.5) + 1):\n",
    "        if num % i == 0:\n",
    "            return False\n",
    "    return True\n",
    "\n",
    "prime_numbers_list = [x for x in range(2, 51) if is_prime(x)]\n",
    "print(f\"List of prime numbers up to 50: {prime_numbers_list}\")\n",
    "\n",
    "# 34. Split a list into chunks of size `n`.\n",
    "n_chunk_size = 3\n",
    "chunked_list = [integer_list[i:i + n_chunk_size] for i in range(0, len(integer_list), n_chunk_size)]\n",
    "print(f\"List split into chunks of size {n_chunk_size}: {chunked_list}\")\n",
    "\n",
    "# 35. Find the second largest number in a list.\n",
    "second_largest = sorted(set(integer_list))[-2]\n",
    "print(f\"Second largest number in the list: {second_largest}\")\n",
    "\n",
    "# 36. Replace every element in a list with its square.\n",
    "squared_elements = [x**2 for x in integer_list]\n",
    "print(f\"List with elements replaced by their squares: {squared_elements}\")\n",
    "\n",
    "# 37. Convert a list to a dictionary where list elements become keys and their indices become values.\n",
    "list_to_dict = {value: index for index, value in enumerate(integer_list)}\n",
    "print(f\"List converted to dictionary: {list_to_dict}\")\n",
    "\n",
    "# 38. Shuffle the elements of a list randomly.\n",
    "shuffled_list = random.sample(integer_list, len(integer_list))\n",
    "print(f\"List after shuffling: {shuffled_list}\")\n",
    "\n",
    "# 39. Create a list of the first 10 factorial numbers.\n",
    "import math\n",
    "\n",
    "factorial_numbers = [math.factorial(x) for x in range(1, 11)]\n",
    "print(f\"List of the first 10 factorial numbers: {factorial_numbers}\")\n"
   ]
  },
  {
   "cell_type": "code",
   "execution_count": null,
   "id": "ce240650-484b-42d5-9695-96589953e5c7",
   "metadata": {},
   "outputs": [],
   "source": [
    "\n",
    "#TUPLE BASED PROBLEM\n",
    "#Check the answer at the end of all questions\n"
   ]
  },
  {
   "cell_type": "code",
   "execution_count": 69,
   "id": "2b74c87b-0630-4f80-9dad-4d973808b45d",
   "metadata": {},
   "outputs": [
    {
     "name": "stdout",
     "output_type": "stream",
     "text": [
      "Tuple with integers from 1 to 5: (1, 2, 3, 4, 5)\n",
      "Third element of the tuple: 3\n",
      "Length without len(): 5\n",
      "Occurrences of 3 in the tuple: 1\n",
      "Index of the first occurrence of 4: 3\n",
      "Does 2 exist in the tuple? True\n",
      "Tuple converted to a list: [1, 2, 3, 4, 5]\n",
      "List converted to a tuple: (1, 2, 3, 4, 5)\n",
      "Unpacked variables: 1, 2, 3, 4, 5\n",
      "Tuple of even numbers from 1 to 10: (2, 4, 6, 8, 10)\n",
      "Tuple of odd numbers from 1 to 10: (1, 3, 5, 7, 9)\n",
      "Concatenated tuple: (1, 2, 3, 4, 5, 6)\n",
      "Repeated tuple three times: (1, 2, 3, 4, 5, 1, 2, 3, 4, 5, 1, 2, 3, 4, 5)\n",
      "Is the tuple empty? True\n",
      "Nested tuple: ((1, 2, 3), (4, 5, 6), (7, 8, 9))\n",
      "First element of the nested tuple: (1, 2, 3)\n",
      "Tuple with a single element: (42,)\n",
      "Comparison result: -1\n",
      "Sliced tuple: (2, 3, 4)\n",
      "Maximum value in the tuple: 5\n",
      "Minimum value in the tuple: 1\n",
      "Tuple of characters from a string: ('h', 'e', 'l', 'l', 'o')\n",
      "String from a tuple of characters: hello\n",
      "Tuple with multiple data types: (1, 'two', 3.0, [4, 5])\n",
      "Are the two tuples identical? False\n",
      "Sorted tuple: (1, 2, 3)\n",
      "Tuple of integers converted to strings: ('1', '2', '3')\n",
      "Tuple of strings converted to integers: (4, 5, 6)\n",
      "Merged tuple: (1, 2, 3, 4, 5, 6)\n",
      "Flattened tuple: (1, 2, 3, 4, 5, 6, 7, 8, 9)\n",
      "Tuple of the first 5 prime numbers: (2, 3, 5, 7, 11)\n",
      "Is the tuple a palindrome? False\n",
      "Tuple of squares of numbers from 1 to 5: (1, 4, 9, 16, 25)\n",
      "Tuple with even numbers filtered out: (1, 3, 5)\n",
      "Tuple with elements multiplied by 2: (2, 4, 6, 8, 10)\n",
      "Tuple of random numbers: (82, 62, 46, 23, 92)\n",
      "Is the tuple sorted? True\n",
      "Tuple rotated to the left by 2 positions: (3, 4, 5, 1, 2)\n",
      "Tuple rotated to the right by 2 positions: (4, 5, 1, 2, 3)\n",
      "Tuple of the first 5 Fibonacci numbers: (0, 1, 1, 2, 3)\n"
     ]
    },
    {
     "name": "stdin",
     "output_type": "stream",
     "text": [
      "Enter numbers separated by space:  9\n"
     ]
    },
    {
     "name": "stdout",
     "output_type": "stream",
     "text": [
      "Tuple created from user input: (9,)\n",
      "Tuple after swapping elements at indices (1, 3): (1, 4, 3, 2, 5)\n",
      "Reversed tuple: (5, 4, 3, 2, 1)\n",
      "Tuple of the first 5 powers of 2: (1, 2, 4, 8, 16)\n",
      "Longest string in the tuple: banana\n",
      "Shortest string in the tuple: kiwi\n",
      "Tuple of the first 5 triangular numbers: (1, 3, 6, 10, 15)\n",
      "Does the tuple contain (2, 3, 4) as a subsequence? True\n",
      "Tuple of alternating 1s and 0s: (0, 1, 0, 1, 0, 1, 0, 1)\n"
     ]
    }
   ],
   "source": [
    "# 1. Create a tuple with integers from 1 to 5.\n",
    "tuple_integers = tuple(range(1, 6))\n",
    "print(f\"Tuple with integers from 1 to 5: {tuple_integers}\")\n",
    "\n",
    "# 2. Access the third element of a tuple.\n",
    "third_element = tuple_integers[2]\n",
    "print(f\"Third element of the tuple: {third_element}\")\n",
    "\n",
    "# 3. Find the length of a tuple without using the `len()` function.\n",
    "length_without_len = sum(1 for _ in tuple_integers)\n",
    "print(f\"Length without len(): {length_without_len}\")\n",
    "\n",
    "# 4. Count the occurrences of an element in a tuple.\n",
    "element_to_count = 3\n",
    "occurrences_count = tuple_integers.count(element_to_count)\n",
    "print(f\"Occurrences of {element_to_count} in the tuple: {occurrences_count}\")\n",
    "\n",
    "# 5. Find the index of the first occurrence of an element in a tuple.\n",
    "element_to_find_index = 4\n",
    "index_of_element = tuple_integers.index(element_to_find_index)\n",
    "print(f\"Index of the first occurrence of {element_to_find_index}: {index_of_element}\")\n",
    "\n",
    "# 6. Check if an element exists in a tuple.\n",
    "element_to_check = 2\n",
    "exists_in_tuple = element_to_check in tuple_integers\n",
    "print(f\"Does {element_to_check} exist in the tuple? {exists_in_tuple}\")\n",
    "\n",
    "# 7. Convert a tuple to a list.\n",
    "tuple_as_list = list(tuple_integers)\n",
    "print(f\"Tuple converted to a list: {tuple_as_list}\")\n",
    "\n",
    "# 8. Convert a list to a tuple.\n",
    "list_as_tuple = tuple(tuple_as_list)\n",
    "print(f\"List converted to a tuple: {list_as_tuple}\")\n",
    "\n",
    "# 9. Unpack the elements of a tuple into variables.\n",
    "first, second, third, fourth, fifth = tuple_integers\n",
    "print(f\"Unpacked variables: {first}, {second}, {third}, {fourth}, {fifth}\")\n",
    "\n",
    "# 10. Create a tuple of even numbers from 1 to 10.\n",
    "even_numbers_tuple = tuple(x for x in range(2, 11, 2))\n",
    "print(f\"Tuple of even numbers from 1 to 10: {even_numbers_tuple}\")\n",
    "\n",
    "# 11. Create a tuple of odd numbers from 1 to 10.\n",
    "odd_numbers_tuple = tuple(x for x in range(1, 11, 2))\n",
    "print(f\"Tuple of odd numbers from 1 to 10: {odd_numbers_tuple}\")\n",
    "\n",
    "# 12. Concatenate two tuples.\n",
    "tuple1 = (1, 2, 3)\n",
    "tuple2 = (4, 5, 6)\n",
    "concatenated_tuple = tuple1 + tuple2\n",
    "print(f\"Concatenated tuple: {concatenated_tuple}\")\n",
    "\n",
    "# 13. Repeat a tuple three times.\n",
    "repeated_tuple = tuple_integers * 3\n",
    "print(f\"Repeated tuple three times: {repeated_tuple}\")\n",
    "\n",
    "# 14. Check if a tuple is empty.\n",
    "empty_tuple = ()\n",
    "is_empty = not bool(empty_tuple)\n",
    "print(f\"Is the tuple empty? {is_empty}\")\n",
    "\n",
    "# 15. Create a nested tuple.\n",
    "nested_tuple = ((1, 2, 3), (4, 5, 6), (7, 8, 9))\n",
    "print(f\"Nested tuple: {nested_tuple}\")\n",
    "\n",
    "# 16. Access the first element of a nested tuple.\n",
    "first_element_nested = nested_tuple[0]\n",
    "print(f\"First element of the nested tuple: {first_element_nested}\")\n",
    "\n",
    "# 17. Create a tuple with a single element.\n",
    "single_element_tuple = (42,)\n",
    "print(f\"Tuple with a single element: {single_element_tuple}\")\n",
    "\n",
    "# 18. Compare two tuples.\n",
    "tuple3 = (1, 2, 3)\n",
    "tuple4 = (1, 2, 4)\n",
    "comparison_result = (tuple3 > tuple4) - (tuple3 < tuple4)\n",
    "print(f\"Comparison result: {comparison_result}\")\n",
    "\n",
    "# 19. Delete a tuple.\n",
    "del_tuple = (1, 2, 3)\n",
    "del del_tuple\n",
    "# The tuple is now deleted and cannot be accessed.\n",
    "\n",
    "# 20. Slice a tuple.\n",
    "sliced_tuple = tuple_integers[1:4]\n",
    "print(f\"Sliced tuple: {sliced_tuple}\")\n",
    "\n",
    "# 21. Find the maximum value in a tuple.\n",
    "max_value_tuple = max(tuple_integers)\n",
    "print(f\"Maximum value in the tuple: {max_value_tuple}\")\n",
    "\n",
    "# 22. Find the minimum value in a tuple.\n",
    "min_value_tuple = min(tuple_integers)\n",
    "print(f\"Minimum value in the tuple: {min_value_tuple}\")\n",
    "\n",
    "# 23. Convert a string to a tuple of characters.\n",
    "string_to_tuple = tuple(\"hello\")\n",
    "print(f\"Tuple of characters from a string: {string_to_tuple}\")\n",
    "\n",
    "# 24. Convert a tuple of characters to a string.\n",
    "tuple_to_string = ''.join(string_to_tuple)\n",
    "print(f\"String from a tuple of characters: {tuple_to_string}\")\n",
    "\n",
    "# 25. Create a tuple from multiple data types.\n",
    "mixed_type_tuple = (1, 'two', 3.0, [4, 5])\n",
    "print(f\"Tuple with multiple data types: {mixed_type_tuple}\")\n",
    "\n",
    "# 26. Check if two tuples are identical.\n",
    "tuple_identical_check = tuple1 == tuple2\n",
    "print(f\"Are the two tuples identical? {tuple_identical_check}\")\n",
    "\n",
    "# 27. Sort the elements of a tuple.\n",
    "sorted_tuple = tuple(sorted(tuple3))\n",
    "print(f\"Sorted tuple: {sorted_tuple}\")\n",
    "\n",
    "# 28. Convert a tuple of integers to a tuple of strings.\n",
    "int_tuple = (1, 2, 3)\n",
    "str_tuple = tuple(map(str, int_tuple))\n",
    "print(f\"Tuple of integers converted to strings: {str_tuple}\")\n",
    "\n",
    "# 29. Convert a tuple of strings to a tuple of integers.\n",
    "str_int_tuple = (4, 5, 6)\n",
    "int_tuple_from_str = tuple(map(int, str_int_tuple))\n",
    "print(f\"Tuple of strings converted to integers: {int_tuple_from_str}\")\n",
    "\n",
    "# 30. Merge two tuples.\n",
    "merged_tuple = tuple1 + tuple2\n",
    "print(f\"Merged tuple: {merged_tuple}\")\n",
    "\n",
    "# 31. Flatten a nested tuple.\n",
    "flattened_nested_tuple = tuple(item for sublist in nested_tuple for item in sublist)\n",
    "print(f\"Flattened tuple: {flattened_nested_tuple}\")\n",
    "\n",
    "# 32. Create a tuple of the first 5 prime numbers.\n",
    "prime_numbers_tuple = (2, 3, 5, 7, 11)\n",
    "print(f\"Tuple of the first 5 prime numbers: {prime_numbers_tuple}\")\n",
    "\n",
    "# 33. Check if a tuple is a palindrome.\n",
    "is_palindrome_tuple = tuple_integers == tuple_integers[::-1]\n",
    "print(f\"Is the tuple a palindrome? {is_palindrome_tuple}\")\n",
    "\n",
    "# 34. Create a tuple of squares of numbers from 1 to 5.\n",
    "squares_tuple = tuple(x**2 for x in range(1, 6))\n",
    "print(f\"Tuple of squares of numbers from 1 to 5: {squares_tuple}\")\n",
    "\n",
    "# 35. Filter out all even numbers from a tuple.\n",
    "filtered_odd_numbers_tuple = tuple(filter(lambda x: x % 2 != 0, tuple_integers))\n",
    "print(f\"Tuple with even numbers filtered out: {filtered_odd_numbers_tuple}\")\n",
    "\n",
    "# 36. Multiply all elements in a tuple by 2.\n",
    "doubled_elements_tuple = tuple(x * 2 for x in tuple_integers)\n",
    "print(f\"Tuple with elements multiplied by 2: {doubled_elements_tuple}\")\n",
    "\n",
    "# 37. Create a tuple of random numbers.\n",
    "import random\n",
    "\n",
    "random_numbers_tuple = tuple(random.randint(1, 100) for _ in range(5))\n",
    "print(f\"Tuple of random numbers: {random_numbers_tuple}\")\n",
    "\n",
    "# 38. Check if a tuple is sorted.\n",
    "is_sorted_tuple = all(tuple_integers[i] <= tuple_integers[i + 1] for i in range(len(tuple_integers) - 1))\n",
    "print(f\"Is the tuple sorted? {is_sorted_tuple}\")\n",
    "\n",
    "# 39. Rotate a tuple to the left by `n` positions.\n",
    "n_positions_left_tuple = 2\n",
    "rotated_left_tuple = tuple_integers[n_positions_left_tuple:] + tuple_integers[:n_positions_left_tuple]\n",
    "print(f\"Tuple rotated to the left by {n_positions_left_tuple} positions: {rotated_left_tuple}\")\n",
    "\n",
    "# 40. Rotate a tuple to the right by `n` positions.\n",
    "n_positions_right_tuple = 2\n",
    "rotated_right_tuple = tuple_integers[-n_positions_right_tuple:] + tuple_integers[:-n_positions_right_tuple]\n",
    "print(f\"Tuple rotated to the right by {n_positions_right_tuple} positions: {rotated_right_tuple}\")\n",
    "\n",
    "# 41. Create a tuple of the first 5 Fibonacci numbers.\n",
    "def fibonacci_tuple(n):\n",
    "    fib_list = [0, 1]\n",
    "    while len(fib_list) < n:\n",
    "        fib_list.append(fib_list[-1] + fib_list[-2])\n",
    "    return tuple(fib_list)\n",
    "\n",
    "first_5_fibonacci_tuple = fibonacci_tuple(5)\n",
    "print(f\"Tuple of the first 5 Fibonacci numbers: {first_5_fibonacci_tuple}\")\n",
    "\n",
    "# 42. Create a tuple from user input.\n",
    "user_input_tuple = tuple(map(int, input(\"Enter numbers separated by space: \").split()))\n",
    "print(f\"Tuple created from user input: {user_input_tuple}\")\n",
    "\n",
    "# 43. Swap two elements in a tuple.\n",
    "tuple_to_swap = (1, 2, 3, 4, 5)\n",
    "swap_indices = (1, 3)\n",
    "swapped_tuple = list(tuple_to_swap)\n",
    "swapped_tuple[swap_indices[0]], swapped_tuple[swap_indices[1]] = swapped_tuple[swap_indices[1]], swapped_tuple[swap_indices[0]]\n",
    "swapped_tuple = tuple(swapped_tuple)\n",
    "print(f\"Tuple after swapping elements at indices {swap_indices}: {swapped_tuple}\")\n",
    "\n",
    "# 44. Reverse the elements of a tuple.\n",
    "reversed_tuple = tuple_integers[::-1]\n",
    "print(f\"Reversed tuple: {reversed_tuple}\")\n",
    "\n",
    "# 45. Create a tuple of the first `n` powers of 2.\n",
    "n_powers_of_2 = 5\n",
    "powers_of_2_tuple = tuple(2 ** i for i in range(n_powers_of_2))\n",
    "print(f\"Tuple of the first {n_powers_of_2} powers of 2: {powers_of_2_tuple}\")\n",
    "\n",
    "# 46. Find the longest string in a tuple of strings.\n",
    "tuple_of_strings = ('apple', 'banana', 'orange', 'kiwi')\n",
    "longest_string = max(tuple_of_strings, key=len)\n",
    "print(f\"Longest string in the tuple: {longest_string}\")\n",
    "\n",
    "# 47. Find the shortest string in a tuple of strings.\n",
    "shortest_string = min(tuple_of_strings, key=len)\n",
    "print(f\"Shortest string in the tuple: {shortest_string}\")\n",
    "\n",
    "# 48. Create a tuple of the first `n` triangular numbers.\n",
    "def triangular_number(n):\n",
    "    return n * (n + 1) // 2\n",
    "\n",
    "n_triangular_numbers = 5\n",
    "triangular_numbers_tuple = tuple(triangular_number(i) for i in range(1, n_triangular_numbers + 1))\n",
    "print(f\"Tuple of the first {n_triangular_numbers} triangular numbers: {triangular_numbers_tuple}\")\n",
    "\n",
    "# 49. Check if a tuple contains another tuple as a subsequence.\n",
    "subsequence_tuple = (2, 3, 4)\n",
    "is_subsequence = all(x in tuple_integers for x in subsequence_tuple)\n",
    "print(f\"Does the tuple contain {subsequence_tuple} as a subsequence? {is_subsequence}\")\n",
    "\n",
    "# 50. Create a tuple of alternating 1s and 0s of length `n`.\n",
    "length_alternating_tuple = 8\n",
    "alternating_tuple = tuple(i % 2 for i in range(length_alternating_tuple))\n",
    "print(f\"Tuple of alternating 1s and 0s: {alternating_tuple}\")\n"
   ]
  },
  {
   "cell_type": "code",
   "execution_count": 70,
   "id": "bce17f12-a34d-49b9-898b-0f89635c4d69",
   "metadata": {},
   "outputs": [],
   "source": [
    "\n",
    "#SET BASED PRACTICE PROBLEM\n"
   ]
  },
  {
   "cell_type": "code",
   "execution_count": 71,
   "id": "07d37e17-4430-438e-bde5-31aacfc39bc3",
   "metadata": {},
   "outputs": [
    {
     "name": "stdout",
     "output_type": "stream",
     "text": [
      "Set with integers from 1 to 5: {1, 2, 3, 4, 5}\n"
     ]
    }
   ],
   "source": [
    "# 1. Create a set with integers from 1 to 5.\n",
    "set_integers = {1, 2, 3, 4, 5}\n",
    "print(f\"Set with integers from 1 to 5: {set_integers}\")"
   ]
  },
  {
   "cell_type": "code",
   "execution_count": 72,
   "id": "1aa5cdc9-1a1b-4199-8b72-b4068f48dd36",
   "metadata": {},
   "outputs": [
    {
     "name": "stdout",
     "output_type": "stream",
     "text": [
      "Set after adding an element: {1, 2, 3, 4, 5, 6}\n"
     ]
    }
   ],
   "source": [
    "# 2. Add an element to a set.\n",
    "set_integers.add(6)\n",
    "print(f\"Set after adding an element: {set_integers}\")"
   ]
  },
  {
   "cell_type": "code",
   "execution_count": 73,
   "id": "1644e2f0-0719-4c04-a0bd-c8f001016a48",
   "metadata": {},
   "outputs": [
    {
     "name": "stdout",
     "output_type": "stream",
     "text": [
      "Set after removing an element: {1, 2, 4, 5, 6}\n"
     ]
    }
   ],
   "source": [
    "# 3. Remove an element from a set.\n",
    "set_integers.remove(3)\n",
    "print(f\"Set after removing an element: {set_integers}\")\n",
    "\n"
   ]
  },
  {
   "cell_type": "code",
   "execution_count": 74,
   "id": "6969b49f-de22-4d03-b16d-27a24aeeb294",
   "metadata": {},
   "outputs": [
    {
     "name": "stdout",
     "output_type": "stream",
     "text": [
      "Does 4 exist in the set? True\n"
     ]
    }
   ],
   "source": [
    "# 4. Check if an element exists in a set.\n",
    "element_to_check = 4\n",
    "exists_in_set = element_to_check in set_integers\n",
    "print(f\"Does {element_to_check} exist in the set? {exists_in_set}\")"
   ]
  },
  {
   "cell_type": "code",
   "execution_count": 76,
   "id": "ada44349-02a6-4598-9330-c4a3dc618d6e",
   "metadata": {},
   "outputs": [
    {
     "name": "stdout",
     "output_type": "stream",
     "text": [
      "Length without len(): 5\n"
     ]
    }
   ],
   "source": [
    "# 5. Find the length of a set without using the `len()` function.\n",
    "length_without_len_set = sum(1 for _ in set_integers)\n",
    "print(f\"Length without len(): {length_without_len_set}\")"
   ]
  },
  {
   "cell_type": "code",
   "execution_count": 77,
   "id": "5e085896-62bb-468d-b8d4-3b85214475f6",
   "metadata": {},
   "outputs": [
    {
     "name": "stdout",
     "output_type": "stream",
     "text": [
      "Set after clearing all elements: set()\n"
     ]
    }
   ],
   "source": [
    "# 6. Clear all elements from a set.\n",
    "set_integers.clear()\n",
    "print(f\"Set after clearing all elements: {set_integers}\")"
   ]
  },
  {
   "cell_type": "code",
   "execution_count": 78,
   "id": "3fc063b0-714c-4f2b-ab28-1f64fed49c9e",
   "metadata": {},
   "outputs": [
    {
     "name": "stdout",
     "output_type": "stream",
     "text": [
      "Set of even numbers from 1 to 10: {2, 4, 6, 8, 10}\n"
     ]
    }
   ],
   "source": [
    "# 7. Create a set of even numbers from 1 to 10.\n",
    "even_numbers_set = {x for x in range(2, 11, 2)}\n",
    "print(f\"Set of even numbers from 1 to 10: {even_numbers_set}\")\n"
   ]
  },
  {
   "cell_type": "code",
   "execution_count": 79,
   "id": "f790b22e-b7c3-4f88-acba-b749f4bc965f",
   "metadata": {},
   "outputs": [
    {
     "name": "stdout",
     "output_type": "stream",
     "text": [
      "Set of odd numbers from 1 to 10: {1, 3, 5, 7, 9}\n"
     ]
    }
   ],
   "source": [
    "# 8. Create a set of odd numbers from 1 to 10.\n",
    "odd_numbers_set = {x for x in range(1, 11, 2)}\n",
    "print(f\"Set of odd numbers from 1 to 10: {odd_numbers_set}\")"
   ]
  },
  {
   "cell_type": "code",
   "execution_count": 80,
   "id": "b2c4de2f-6c01-49c1-964c-d6804904f08b",
   "metadata": {},
   "outputs": [
    {
     "name": "stdout",
     "output_type": "stream",
     "text": [
      "Union of two sets: {1, 2, 3, 4, 5}\n"
     ]
    }
   ],
   "source": [
    "# 9. Find the union of two sets.\n",
    "set1 = {1, 2, 3}\n",
    "set2 = {3, 4, 5}\n",
    "union_set = set1.union(set2)\n",
    "print(f\"Union of two sets: {union_set}\")\n"
   ]
  },
  {
   "cell_type": "code",
   "execution_count": 81,
   "id": "7e7ff37b-e57e-4276-ad7e-616da39e4e56",
   "metadata": {},
   "outputs": [
    {
     "name": "stdout",
     "output_type": "stream",
     "text": [
      "Intersection of two sets: {3}\n"
     ]
    }
   ],
   "source": [
    "# 10. Find the intersection of two sets.\n",
    "intersection_set = set1.intersection(set2)\n",
    "print(f\"Intersection of two sets: {intersection_set}\")"
   ]
  },
  {
   "cell_type": "code",
   "execution_count": 82,
   "id": "1a9ac809-19b8-41f1-b543-a1f0de389453",
   "metadata": {},
   "outputs": [
    {
     "name": "stdout",
     "output_type": "stream",
     "text": [
      "Difference between two sets: {1, 2}\n"
     ]
    }
   ],
   "source": [
    "# 11. Find the difference between two sets.\n",
    "difference_set = set1.difference(set2)\n",
    "print(f\"Difference between two sets: {difference_set}\")"
   ]
  },
  {
   "cell_type": "code",
   "execution_count": 83,
   "id": "1be96640-f7f1-41f0-97a3-d134c2384226",
   "metadata": {},
   "outputs": [
    {
     "name": "stdout",
     "output_type": "stream",
     "text": [
      "Is set1 a subset of set2? False\n"
     ]
    }
   ],
   "source": [
    "# 12. Check if a set is a subset of another set.\n",
    "is_subset = set1.issubset(set2)\n",
    "print(f\"Is set1 a subset of set2? {is_subset}\")\n"
   ]
  },
  {
   "cell_type": "code",
   "execution_count": 84,
   "id": "bbae5a38-b47a-4ed4-ab16-e16460e1c845",
   "metadata": {},
   "outputs": [
    {
     "name": "stdout",
     "output_type": "stream",
     "text": [
      "Is set1 a superset of set2? False\n"
     ]
    }
   ],
   "source": [
    "# 13. Check if a set is a superset of another set.\n",
    "is_superset = set1.issuperset(set2)\n",
    "print(f\"Is set1 a superset of set2? {is_superset}\")\n"
   ]
  },
  {
   "cell_type": "code",
   "execution_count": 85,
   "id": "7ddb7869-73e7-4080-8fca-2fcb13cf15a4",
   "metadata": {},
   "outputs": [
    {
     "name": "stdout",
     "output_type": "stream",
     "text": [
      "Set created from a list: {1, 2, 3, 4, 5}\n"
     ]
    }
   ],
   "source": [
    "# 14. Create a set from a list.\n",
    "list_to_set = set([1, 2, 3, 4, 5])\n",
    "print(f\"Set created from a list: {list_to_set}\")\n"
   ]
  },
  {
   "cell_type": "code",
   "execution_count": 86,
   "id": "0aae7ab5-6619-44c6-9f2b-a39d91d44ca8",
   "metadata": {},
   "outputs": [
    {
     "name": "stdout",
     "output_type": "stream",
     "text": [
      "List created from a set: []\n"
     ]
    }
   ],
   "source": [
    "# 15. Convert a set to a list.\n",
    "set_to_list = list(set_integers)\n",
    "print(f\"List created from a set: {set_to_list}\")"
   ]
  },
  {
   "cell_type": "code",
   "execution_count": 92,
   "id": "22e56d11-c70d-4e14-8f0a-8eea0dbdafdb",
   "metadata": {},
   "outputs": [
    {
     "name": "stdout",
     "output_type": "stream",
     "text": [
      "Set is empty, cannot remove a random element.\n"
     ]
    }
   ],
   "source": [
    "# 16. Remove a random element from a set.\n",
    "import random\n",
    "\n",
    "if set_integers:\n",
    "    random_element = random.choice(list(set_integers))\n",
    "    set_integers.remove(random_element)\n",
    "    print(f\"Set after removing a random element: {set_integers}\")\n",
    "else:\n",
    "    print(\"Set is empty, cannot remove a random element.\")\n"
   ]
  },
  {
   "cell_type": "code",
   "execution_count": 93,
   "id": "93767d0e-5703-4bb9-8bec-aa4defac6733",
   "metadata": {},
   "outputs": [],
   "source": [
    "set1 = {1, 2, 3, 4, 5}\n",
    "set2 = {3, 4, 5, 6, 7}"
   ]
  },
  {
   "cell_type": "code",
   "execution_count": 94,
   "id": "64bd2e77-57f7-4886-b875-0109d19dfbce",
   "metadata": {},
   "outputs": [
    {
     "name": "stdout",
     "output_type": "stream",
     "text": [
      "Popped element from set1: 1\n",
      "Set1 after popping an element: {2, 3, 4, 5}\n"
     ]
    }
   ],
   "source": [
    "# 17. Pop an element from a set.\n",
    "if set1:\n",
    "    popped_element = set1.pop()\n",
    "    print(f\"Popped element from set1: {popped_element}\")\n",
    "    print(f\"Set1 after popping an element: {set1}\")\n",
    "else:\n",
    "    print(\"Set1 is empty, cannot pop an element.\")"
   ]
  },
  {
   "cell_type": "code",
   "execution_count": 95,
   "id": "c818fc3f-f8b1-44c3-9df3-5e0fee6dae80",
   "metadata": {},
   "outputs": [
    {
     "name": "stdout",
     "output_type": "stream",
     "text": [
      "Do set1 and set2 have no elements in common? False\n"
     ]
    }
   ],
   "source": [
    "# 18. Check if two sets have no elements in common.\n",
    "no_common_elements = set1.isdisjoint(set2)\n",
    "print(f\"Do set1 and set2 have no elements in common? {no_common_elements}\")"
   ]
  },
  {
   "cell_type": "code",
   "execution_count": 96,
   "id": "6b623d86-fa35-4932-be20-01dc9760bcf6",
   "metadata": {},
   "outputs": [
    {
     "name": "stdout",
     "output_type": "stream",
     "text": [
      "Symmetric difference between set1 and set2: {2, 6, 7}\n"
     ]
    }
   ],
   "source": [
    "# 19. Find the symmetric difference between two sets.\n",
    "symmetric_difference_set = set1.symmetric_difference(set2)\n",
    "print(f\"Symmetric difference between set1 and set2: {symmetric_difference_set}\")"
   ]
  },
  {
   "cell_type": "code",
   "execution_count": 97,
   "id": "9bb75ed0-73f8-4332-9a06-01b56755adba",
   "metadata": {},
   "outputs": [
    {
     "name": "stdout",
     "output_type": "stream",
     "text": [
      "Set1 updated with elements from set2: {2, 3, 4, 5, 6, 7}\n"
     ]
    }
   ],
   "source": [
    "# 20. Update a set with elements from another set.\n",
    "set1.update(set2)\n",
    "print(f\"Set1 updated with elements from set2: {set1}\")"
   ]
  },
  {
   "cell_type": "code",
   "execution_count": 98,
   "id": "10425f31-fb2f-4d3d-abf5-5d0155e453de",
   "metadata": {},
   "outputs": [
    {
     "name": "stdout",
     "output_type": "stream",
     "text": [
      "Set of the first 5 prime numbers: {2, 3, 5, 7, 11}\n"
     ]
    }
   ],
   "source": [
    "# 21. Create a set of the first 5 prime numbers.\n",
    "prime_numbers_set = {2, 3, 5, 7, 11}\n",
    "print(f\"Set of the first 5 prime numbers: {prime_numbers_set}\")\n"
   ]
  },
  {
   "cell_type": "code",
   "execution_count": 99,
   "id": "1655f70d-a708-4c1e-9c8d-497d8a02e855",
   "metadata": {},
   "outputs": [
    {
     "name": "stdout",
     "output_type": "stream",
     "text": [
      "Are set1 and set2 identical? False\n"
     ]
    }
   ],
   "source": [
    "# 22. Check if two sets are identical.\n",
    "are_identical_sets = set1 == set2\n",
    "print(f\"Are set1 and set2 identical? {are_identical_sets}\")\n"
   ]
  },
  {
   "cell_type": "code",
   "execution_count": 100,
   "id": "02483ef4-4898-4a40-80fe-e73d38b77651",
   "metadata": {},
   "outputs": [
    {
     "name": "stdout",
     "output_type": "stream",
     "text": [
      "Frozen set: frozenset({1, 2, 3, 4, 5})\n"
     ]
    }
   ],
   "source": [
    "# 23. Create a frozen set.\n",
    "frozen_set = frozenset([1, 2, 3, 4, 5])\n",
    "print(f\"Frozen set: {frozen_set}\")"
   ]
  },
  {
   "cell_type": "code",
   "execution_count": 101,
   "id": "6ad99207-11c3-46ae-81b7-8a15a907af28",
   "metadata": {},
   "outputs": [
    {
     "name": "stdout",
     "output_type": "stream",
     "text": [
      "Is set1 disjoint with frozen_set? False\n"
     ]
    }
   ],
   "source": [
    "# 24. Check if a set is disjoint with another set.\n",
    "is_disjoint = set1.isdisjoint(frozen_set)\n",
    "print(f\"Is set1 disjoint with frozen_set? {is_disjoint}\")"
   ]
  },
  {
   "cell_type": "code",
   "execution_count": 102,
   "id": "a621fe92-943f-464f-ba26-efa1c6d8dac8",
   "metadata": {},
   "outputs": [
    {
     "name": "stdout",
     "output_type": "stream",
     "text": [
      "Set of squares of numbers from 1 to 5: {1, 4, 9, 16, 25}\n"
     ]
    }
   ],
   "source": [
    "# 25. Create a set of squares of numbers from 1 to 5.\n",
    "squares_set = {x**2 for x in range(1, 6)}\n",
    "print(f\"Set of squares of numbers from 1 to 5: {squares_set}\")"
   ]
  },
  {
   "cell_type": "code",
   "execution_count": 103,
   "id": "b0c72d64-7b79-46ec-8a23-8dde70a773ae",
   "metadata": {},
   "outputs": [
    {
     "name": "stdout",
     "output_type": "stream",
     "text": [
      "Set with even numbers filtered out: {3, 5, 7}\n"
     ]
    }
   ],
   "source": [
    "# 26. Filter out all even numbers from a set.\n",
    "filtered_odd_numbers_set = {x for x in set1 if x % 2 != 0}\n",
    "print(f\"Set with even numbers filtered out: {filtered_odd_numbers_set}\")"
   ]
  },
  {
   "cell_type": "code",
   "execution_count": 104,
   "id": "22bc2c79-5e9d-43dd-aaea-d743e732bc94",
   "metadata": {},
   "outputs": [
    {
     "name": "stdout",
     "output_type": "stream",
     "text": [
      "Set with elements multiplied by 2: {4, 6, 8, 10, 12, 14}\n"
     ]
    }
   ],
   "source": [
    "# 27. Multiply all elements in a set by 2.\n",
    "multiplied_elements_set = {x * 2 for x in set1}\n",
    "print(f\"Set with elements multiplied by 2: {multiplied_elements_set}\")\n",
    "\n"
   ]
  },
  {
   "cell_type": "code",
   "execution_count": 105,
   "id": "95fac260-df82-4bac-bb88-23a675653422",
   "metadata": {},
   "outputs": [
    {
     "name": "stdout",
     "output_type": "stream",
     "text": [
      "Set of random numbers: {16, 99, 68, 23}\n"
     ]
    }
   ],
   "source": [
    "# 28. Create a set of random numbers.\n",
    "import random\n",
    "\n",
    "random_numbers_set = {random.randint(1, 100) for _ in range(5)}\n",
    "print(f\"Set of random numbers: {random_numbers_set}\")\n"
   ]
  },
  {
   "cell_type": "code",
   "execution_count": 106,
   "id": "97a6a46f-8cfa-4d9b-a684-68cfa64054d0",
   "metadata": {},
   "outputs": [
    {
     "name": "stdout",
     "output_type": "stream",
     "text": [
      "Is set1 empty? False\n"
     ]
    }
   ],
   "source": [
    "# 29. Check if a set is empty.\n",
    "is_empty_set = not bool(set1)\n",
    "print(f\"Is set1 empty? {is_empty_set}\")\n"
   ]
  },
  {
   "cell_type": "code",
   "execution_count": 107,
   "id": "51f62c7e-3939-4ef9-ba9f-74515a57884c",
   "metadata": {},
   "outputs": [
    {
     "name": "stdout",
     "output_type": "stream",
     "text": [
      "Nested set: {frozenset({1, 2, 3}), frozenset({4, 5, 6})}\n"
     ]
    }
   ],
   "source": [
    "# 30. Create a nested set (hint: use frozenset).\n",
    "nested_set = {frozenset([1, 2, 3]), frozenset([4, 5, 6])}\n",
    "print(f\"Nested set: {nested_set}\")\n"
   ]
  },
  {
   "cell_type": "code",
   "execution_count": 108,
   "id": "b727ffcb-0ec9-4266-aedd-4b2111212f89",
   "metadata": {},
   "outputs": [
    {
     "name": "stdout",
     "output_type": "stream",
     "text": [
      "Set1 after discarding element 3: {2, 4, 5, 6, 7}\n"
     ]
    }
   ],
   "source": [
    "# 31. Remove an element from a set using the discard method.\n",
    "element_to_discard = 3\n",
    "set1.discard(element_to_discard)\n",
    "print(f\"Set1 after discarding element {element_to_discard}: {set1}\")"
   ]
  },
  {
   "cell_type": "code",
   "execution_count": 112,
   "id": "6381b19d-bd84-47e2-9d01-cb4dfb2e1120",
   "metadata": {},
   "outputs": [
    {
     "name": "stdout",
     "output_type": "stream",
     "text": [
      "Are set1 and set2 identical? False\n"
     ]
    }
   ],
   "source": [
    "# 32. Compare two sets.\n",
    "are_identical_sets = set1 == set2\n",
    "print(f\"Are set1 and set2 identical? {are_identical_sets}\")\n"
   ]
  },
  {
   "cell_type": "code",
   "execution_count": 113,
   "id": "ce28cb48-cb76-492e-8a7b-49dad089fc41",
   "metadata": {},
   "outputs": [
    {
     "name": "stdout",
     "output_type": "stream",
     "text": [
      "Set created from the string 'hello': {'e', 'h', 'o', 'l'}\n"
     ]
    }
   ],
   "source": [
    "# 33. Create a set from a string.\n",
    "string_to_set = set(\"hello\")\n",
    "print(f\"Set created from the string 'hello': {string_to_set}\")\n",
    "\n"
   ]
  },
  {
   "cell_type": "code",
   "execution_count": 114,
   "id": "d5ca748a-35d3-4bbf-bd92-8361ada7a431",
   "metadata": {},
   "outputs": [
    {
     "name": "stdout",
     "output_type": "stream",
     "text": [
      "Set of strings converted to a set of integers: {1, 2, 3, 4, 5}\n"
     ]
    }
   ],
   "source": [
    "# 34. Convert a set of strings to a set of integers.\n",
    "set_of_strings = {'1', '2', '3', '4', '5'}\n",
    "set_of_integers = {int(x) for x in set_of_strings}\n",
    "print(f\"Set of strings converted to a set of integers: {set_of_integers}\")"
   ]
  },
  {
   "cell_type": "code",
   "execution_count": 115,
   "id": "659a5b0d-f20d-434b-9640-8c987fbe3427",
   "metadata": {},
   "outputs": [
    {
     "name": "stdout",
     "output_type": "stream",
     "text": [
      "Set of integers converted to a set of strings: {'7', '4', '6', '2', '5'}\n"
     ]
    }
   ],
   "source": [
    "# 35. Convert a set of integers to a set of strings.\n",
    "set_of_strings = {str(x) for x in set1}\n",
    "print(f\"Set of integers converted to a set of strings: {set_of_strings}\")"
   ]
  },
  {
   "cell_type": "code",
   "execution_count": 116,
   "id": "6f49ae91-f44d-4ef4-a404-f70a57c0ced7",
   "metadata": {},
   "outputs": [
    {
     "name": "stdout",
     "output_type": "stream",
     "text": [
      "Set created from a tuple: {1, 2, 3, 4, 5}\n"
     ]
    }
   ],
   "source": [
    "# 36. Create a set from a tuple.\n",
    "tuple_to_set = set((1, 2, 3, 4, 5))\n",
    "print(f\"Set created from a tuple: {tuple_to_set}\")"
   ]
  },
  {
   "cell_type": "code",
   "execution_count": 117,
   "id": "7585ecca-2892-48a9-b290-2be6b8d883c3",
   "metadata": {},
   "outputs": [
    {
     "name": "stdout",
     "output_type": "stream",
     "text": [
      "Tuple created from set2: (3, 4, 5, 6, 7)\n"
     ]
    }
   ],
   "source": [
    "# 37. Convert a set to a tuple.\n",
    "set_to_tuple = tuple(set2)\n",
    "print(f\"Tuple created from set2: {set_to_tuple}\")"
   ]
  },
  {
   "cell_type": "code",
   "execution_count": 118,
   "id": "18136b3d-d089-4e27-ab0b-f9c5348ea305",
   "metadata": {},
   "outputs": [
    {
     "name": "stdout",
     "output_type": "stream",
     "text": [
      "Maximum value in set1: 7\n"
     ]
    }
   ],
   "source": [
    "# 38. Find the maximum value in a set.\n",
    "max_value_set = max(set1)\n",
    "print(f\"Maximum value in set1: {max_value_set}\")"
   ]
  },
  {
   "cell_type": "code",
   "execution_count": 119,
   "id": "1fb1052e-b4fc-474a-808c-955ec8cff144",
   "metadata": {},
   "outputs": [
    {
     "name": "stdout",
     "output_type": "stream",
     "text": [
      "Minimum value in set2: 3\n"
     ]
    }
   ],
   "source": [
    "# 39. Find the minimum value in a set.\n",
    "min_value_set = min(set2)\n",
    "print(f\"Minimum value in set2: {min_value_set}\")"
   ]
  },
  {
   "cell_type": "code",
   "execution_count": 120,
   "id": "d394425f-ce3d-47c0-8427-b6bf79897f32",
   "metadata": {},
   "outputs": [
    {
     "name": "stdin",
     "output_type": "stream",
     "text": [
      "Enter elements separated by space for the set:  4\n"
     ]
    },
    {
     "name": "stdout",
     "output_type": "stream",
     "text": [
      "Set created from user input: {4}\n"
     ]
    }
   ],
   "source": [
    "# 40. Create a set from user input.\n",
    "user_input_set = set(map(int, input(\"Enter elements separated by space for the set: \").split()))\n",
    "print(f\"Set created from user input: {user_input_set}\")"
   ]
  },
  {
   "cell_type": "code",
   "execution_count": 121,
   "id": "f640b7ec-841b-4b76-a40e-420d50db712d",
   "metadata": {},
   "outputs": [
    {
     "name": "stdout",
     "output_type": "stream",
     "text": [
      "Is the intersection of set1 and set2 empty? False\n"
     ]
    }
   ],
   "source": [
    "# 41. Check if the intersection of two sets is empty.\n",
    "is_intersection_empty = set1.isdisjoint(set2)\n",
    "print(f\"Is the intersection of set1 and set2 empty? {is_intersection_empty}\")"
   ]
  },
  {
   "cell_type": "code",
   "execution_count": null,
   "id": "8e0333e4-ccb1-4c53-9f2f-9811815311c1",
   "metadata": {},
   "outputs": [],
   "source": [
    "# 42. Create a set of the first 5 Fibonacci numbers.\n",
    "def fibonacci_set(n):\n",
    "    fib_set = {0, 1}\n",
    "    while len(fib_set) < n:\n",
    "        fib_set.add(sum(list(fib_set)[-2:]))\n",
    "    return fib_set\n",
    "\n",
    "first_5_fibonacci_set = fibonacci_set(5)\n",
    "print(f\"Set of the first 5 Fibonacci numbers: {first_5_fibonacci_set}\")"
   ]
  },
  {
   "cell_type": "code",
   "execution_count": null,
   "id": "00494493-cd30-49bc-b887-3cd4b42e0fdd",
   "metadata": {},
   "outputs": [],
   "source": [
    "# 43. Remove duplicates from a list using sets.\n",
    "list_with_duplicates = [1, 2, 2, 3, 4, 4, 5]\n",
    "set_without_duplicates = set(list_with_duplicates)\n",
    "print(f\"Original list: {list_with_duplicates}\")\n",
    "print(f\"List with duplicates removed using sets: {list(set_without_duplicates)}\")"
   ]
  },
  {
   "cell_type": "code",
   "execution_count": null,
   "id": "ff5db493-924f-464c-838c-2afd85c5a1b8",
   "metadata": {},
   "outputs": [],
   "source": [
    "# 44. Check if two sets have the same elements, regardless of their count.\n",
    "same_elements = set1 == set2\n",
    "print(f\"Do set1 and set2 have the same elements? {same_elements}\")"
   ]
  },
  {
   "cell_type": "code",
   "execution_count": null,
   "id": "b05c3747-688f-4ed5-9e33-ef91a571b4b7",
   "metadata": {},
   "outputs": [],
   "source": [
    "\n",
    "# 45. Create a set of the first `n` powers of 2.\n",
    "n_powers_of_2_set = {2**i for i in range(5)}\n",
    "print(f\"Set of the first 5 powers of 2: {n_powers_of_2_set}\""
   ]
  },
  {
   "cell_type": "code",
   "execution_count": null,
   "id": "4106ffb4-7f4d-4c83-af2b-9f32bc4e392b",
   "metadata": {},
   "outputs": [],
   "source": [
    "\n",
    "# 46. Find the common elements between a set and a list.\n",
    "common_elements = set1.intersection(set(list_with_duplicates))\n",
    "print(f\"Common elements between set1 and the list: {common_elements}\")"
   ]
  },
  {
   "cell_type": "code",
   "execution_count": null,
   "id": "6d0fb4bb-fcb6-4583-82f1-f86aa38fb352",
   "metadata": {},
   "outputs": [],
   "source": [
    "# 47. Create a set of the first `n` triangular numbers.\n",
    "def triangular_number_set(n):\n",
    "    return {i * (i + 1) // 2 for i in range(1, n + 1)}\n",
    "\n",
    "n_triangular_numbers_set = triangular_number_set(5)\n",
    "print(f\"Set of the first 5 triangular numbers: {n_triangular_numbers_set}\")\n"
   ]
  },
  {
   "cell_type": "code",
   "execution_count": null,
   "id": "75f37b39-b4cc-4c4e-8a87-e14a5cd6f78a",
   "metadata": {},
   "outputs": [],
   "source": [
    "\n",
    "# 48. Check if a set contains another set as a subset.\n",
    "is_subset_check = set1.issubset(set2)\n",
    "print(f\"Is set1 a subset of set2? {is_subset_check}\")\n"
   ]
  },
  {
   "cell_type": "code",
   "execution_count": null,
   "id": "28efd331-481d-4ae0-903a-274ec7c8318b",
   "metadata": {},
   "outputs": [],
   "source": [
    "# 49. Create a set of alternating 1s and 0s of length `n`.\n",
    "length_alternating_set = 8\n",
    "alternating_set = {i % 2 for i in range(length_alternating_set)}\n",
    "print(f\"Set of alternating 1s and 0s: {alternating_set}\")"
   ]
  },
  {
   "cell_type": "code",
   "execution_count": null,
   "id": "9f51beed-739f-4fc9-8d13-7e70781ef12c",
   "metadata": {},
   "outputs": [],
   "source": [
    "# 50. Merge multiple sets into one.\n",
    "merged_set = set1.union(set2, set_of_integers, first_5_fibonacci_set)\n",
    "print(f\"Merged set: {merged_set}\")"
   ]
  },
  {
   "cell_type": "code",
   "execution_count": null,
   "id": "9e76d3bd-b354-45cd-a068-bb49f164b88e",
   "metadata": {},
   "outputs": [],
   "source": []
  }
 ],
 "metadata": {
  "kernelspec": {
   "display_name": "Python 3 (ipykernel)",
   "language": "python",
   "name": "python3"
  },
  "language_info": {
   "codemirror_mode": {
    "name": "ipython",
    "version": 3
   },
   "file_extension": ".py",
   "mimetype": "text/x-python",
   "name": "python",
   "nbconvert_exporter": "python",
   "pygments_lexer": "ipython3",
   "version": "3.10.8"
  }
 },
 "nbformat": 4,
 "nbformat_minor": 5
}
